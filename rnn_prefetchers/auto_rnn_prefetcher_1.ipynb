{
  "nbformat": 4,
  "nbformat_minor": 0,
  "metadata": {
    "colab": {
      "name": "auto_rnn_prefetcher_1.ipynb",
      "provenance": [],
      "collapsed_sections": []
    },
    "kernelspec": {
      "name": "python3",
      "display_name": "Python 3"
    },
    "language_info": {
      "name": "python"
    },
    "accelerator": "GPU"
  },
  "cells": [
    {
      "cell_type": "code",
      "metadata": {
        "colab": {
          "base_uri": "https://localhost:8080/"
        },
        "id": "4eQDDPrODw_C",
        "outputId": "7996fa7b-df7a-406b-83c8-6c256419e90b"
      },
      "source": [
        "from google.colab import drive\n",
        "drive.mount('/content/drive')"
      ],
      "execution_count": 2,
      "outputs": [
        {
          "output_type": "stream",
          "text": [
            "Drive already mounted at /content/drive; to attempt to forcibly remount, call drive.mount(\"/content/drive\", force_remount=True).\n"
          ],
          "name": "stdout"
        }
      ]
    },
    {
      "cell_type": "code",
      "metadata": {
        "colab": {
          "base_uri": "https://localhost:8080/"
        },
        "id": "N0SKQ0EYDxBh",
        "outputId": "76f18014-d935-4ab6-c740-a8449ed82761"
      },
      "source": [
        "!pwd"
      ],
      "execution_count": 3,
      "outputs": [
        {
          "output_type": "stream",
          "text": [
            "/content\n"
          ],
          "name": "stdout"
        }
      ]
    },
    {
      "cell_type": "code",
      "metadata": {
        "colab": {
          "base_uri": "https://localhost:8080/"
        },
        "id": "3U1tdYkZDxEB",
        "outputId": "5cef44f3-0464-4224-804e-9387249a55b3"
      },
      "source": [
        "%cd drive/MyDrive/Colab\\ Notebooks"
      ],
      "execution_count": 4,
      "outputs": [
        {
          "output_type": "stream",
          "text": [
            "/content/drive/MyDrive/Colab Notebooks\n"
          ],
          "name": "stdout"
        }
      ]
    },
    {
      "cell_type": "code",
      "metadata": {
        "id": "4GYqemoCDoZW"
      },
      "source": [
        "%tensorflow_version 2.x\n",
        "import globalobject as g\n",
        "from keras.datasets import imdb\n",
        "from keras.preprocessing import sequence\n",
        "import keras\n",
        "import tensorflow as tf\n",
        "import os\n",
        "import numpy as np\n",
        "import matplotlib.pyplot as plt\n",
        "from tqdm import tqdm\n",
        "import pandas as pd\n",
        "import shutil"
      ],
      "execution_count": 5,
      "outputs": []
    },
    {
      "cell_type": "code",
      "metadata": {
        "id": "3OJ5bfmrD1xr"
      },
      "source": [
        "seq_length = g.seq_length\n",
        "epoch = g.epoch\n",
        "MAXLEN = g.MAXLEN\n",
        "DENSE_HIDDEN_SIZE = g.DENSE_HIDDEN_SIZE\n",
        "train_model_percentage = g.train_model_percentage\n",
        "\n",
        "ADDRESS_PREDICT_SIZE = g.ADDRESS_PREDICT_SIZE\n",
        "EMBEDDING_DIM = g.EMBEDDING_DIM\n",
        "RNN_UNITS = g.RNN_UNITS\n",
        "\n",
        "BUFFER_SIZE = g.BUFFER_SIZE\n",
        "\n",
        "text_file = g.text_file"
      ],
      "execution_count": 6,
      "outputs": []
    },
    {
      "cell_type": "code",
      "metadata": {
        "id": "eGYxpHuGD6WU"
      },
      "source": [
        "train_rnn_data = np.load('/content/drive/MyDrive/Colab Notebooks/dataset/' + g.text_file + '_train_rnn_data.npy')\n",
        "test_rnn_data = np.load('/content/drive/MyDrive/Colab Notebooks/dataset/' + g.text_file + '_test_rnn_data.npy')\n",
        "train_delta_output = np.load('/content/drive/MyDrive/Colab Notebooks/dataset/' + g.text_file + '_train_delta_output.npy')\n",
        "test_delta_output = np.load('/content/drive/MyDrive/Colab Notebooks/dataset/' + g.text_file + '_test_delta_output.npy')"
      ],
      "execution_count": 7,
      "outputs": []
    },
    {
      "cell_type": "code",
      "metadata": {
        "id": "FV07aUsND-56"
      },
      "source": [
        "from keras.layers import Input, Dense, Embedding, LSTM\n",
        "from keras.models import Model\n",
        "\n",
        "def build_model(address_predict_size, embedding_dim, rnn_units):\n",
        "  input_x = Input(shape=(seq_length,))\n",
        "  x = Embedding(address_predict_size, embedding_dim)(input_x)\n",
        "  x = LSTM(rnn_units, recurrent_initializer='glorot_uniform') (x)\n",
        "  x = Dense(address_predict_size, activation=\"sigmoid\") (x)\n",
        "  model = Model(inputs=input_x, outputs=x)\n",
        "  return model"
      ],
      "execution_count": 8,
      "outputs": []
    },
    {
      "cell_type": "code",
      "metadata": {
        "id": "INiYh6yuEbqh"
      },
      "source": [
        "def loss(labels, logits):\n",
        "  return tf.keras.losses.sparse_categorical_crossentropy(labels, logits)"
      ],
      "execution_count": 9,
      "outputs": []
    },
    {
      "cell_type": "code",
      "metadata": {
        "id": "0rXP_0DlEbsn"
      },
      "source": [
        "def generate_address(model, start_address):\n",
        "  # Evaluation step (generating address using the learned model)\n",
        "\n",
        "  # Number of characters to generate\n",
        "  num_generate = 2\n",
        "  input_eval = tf.expand_dims(start_address, 0)\n",
        "\n",
        "  # Empty string to store our results\n",
        "  generated = []\n",
        "\n",
        "  # Here batch size == 1\n",
        "  model.reset_states()\n",
        "  predictions = model(input_eval)\n",
        "\n",
        "  # using argmax\n",
        "  predictions_np = predictions.numpy()\n",
        "  predictions_np = np.squeeze(predictions_np,axis=0)\n",
        "  predictions_np = np.argsort(predictions_np)\n",
        "  generated = predictions_np [-num_generate:]\n",
        "\n",
        "  return generated"
      ],
      "execution_count": 10,
      "outputs": []
    },
    {
      "cell_type": "code",
      "metadata": {
        "colab": {
          "base_uri": "https://localhost:8080/"
        },
        "id": "xMl-h0C_EkbY",
        "outputId": "84881521-6ea2-49c2-e33e-4ed43214f3ea"
      },
      "source": [
        "BATCH_SIZE_array = [32, 64, 128]\n",
        "\n",
        "data = dict()\n",
        "continue_check = 0\n",
        "\n",
        "if os.path.isfile(f'/content/drive/MyDrive/Colab Notebooks/prefetcher_1_seq_length_{seq_length}.csv') == True:\n",
        "  continue_check = 1\n",
        "  before_data = pd.read_csv(f\"/content/drive/MyDrive/Colab Notebooks/prefetcher_1_seq_length_{seq_length}.csv\", names=[\"batch_size\", \"epoch_num\", \"train_accuracy\", \"accuracy_except_0_and_1000\", \"first_number_accuracy\", \"second_number_accuracy\"])\n",
        "\n",
        "for BATCH_SIZE in BATCH_SIZE_array:\n",
        "\n",
        "  if os.path.isdir(\"./training_checkpoints\") == True:\n",
        "    shutil.rmtree(\"./training_checkpoints\")\n",
        "\n",
        "  print(\"\\n\\nnew model start!!\")\n",
        "  print(f\"{BATCH_SIZE}\\n\")\n",
        "\n",
        "  epoch_num_array = [10, 15, 20, 25, 30]\n",
        "\n",
        "  if continue_check == 1:\n",
        "    tmp = before_data.loc[before_data[\"batch_size\"] == BATCH_SIZE]\n",
        "    if tmp.shape[0] == len(epoch_num_array):\n",
        "      continue\n",
        "    else:\n",
        "      continue_check = 0\n",
        "      epoch_num_array = epoch_num_array[tmp.shape[0]:]\n",
        "\n",
        "  model = build_model(ADDRESS_PREDICT_SIZE,EMBEDDING_DIM, RNN_UNITS)\n",
        "      \n",
        "  model.compile(optimizer='adam', loss=loss, metrics=['accuracy'])\n",
        "        \n",
        "  checkpoint_dir = './training_checkpoints'\n",
        "  checkpoint_prefix = os.path.join(checkpoint_dir, \"ckpt_{epoch}\")\n",
        "\n",
        "  checkpoint_callback=tf.keras.callbacks.ModelCheckpoint(\n",
        "        filepath=checkpoint_prefix,\n",
        "        save_weights_only=True)\n",
        "        \n",
        "  history = model.fit(train_rnn_data, train_delta_output, batch_size=BATCH_SIZE, epochs=epoch, callbacks=[checkpoint_callback])\n",
        "\n",
        "  model = build_model(ADDRESS_PREDICT_SIZE,EMBEDDING_DIM, RNN_UNITS)\n",
        "        \n",
        "  for epoch_num in epoch_num_array:\n",
        "    model.load_weights(f'./training_checkpoints/ckpt_{epoch_num}')\n",
        "    model.build(tf.TensorShape([1, None]))\n",
        "\n",
        "    total_num_except_0_1000 = len(test_rnn_data)\n",
        "    correct = 0\n",
        "    first_correct = 0\n",
        "    second_correct = 0\n",
        "\n",
        "    for i in tqdm(range(len(test_delta_output)), desc='check accuracy..'):\n",
        "      inp = test_rnn_data[i]\n",
        "      lstm_ans = generate_address(model, inp)\n",
        "      if test_delta_output[i] in lstm_ans:\n",
        "        correct += 1\n",
        "        if test_delta_output[i] == lstm_ans[0]:\n",
        "          first_correct += 1\n",
        "        if test_delta_output[i] == lstm_ans[1]:\n",
        "          second_correct += 1\n",
        "\n",
        "    data['batch_size'] = [BATCH_SIZE]\n",
        "    data['epoch_num'] = [epoch_num]\n",
        "    data['train_accuracy'] = [round(history.history['accuracy'][epoch_num-1]*100,2)]\n",
        "    data['accuracy_except_0_and_1000'] = [round(correct/total_num_except_0_1000*100,2)]\n",
        "    data['first_number_accuracy'] = [round(first_correct/total_num_except_0_1000*100,2)]\n",
        "    data['second_number_accuracy'] = [round(second_correct/total_num_except_0_1000*100,2)]\n",
        "            \n",
        "    data_frame = pd.DataFrame(data)\n",
        "\n",
        "    data_frame.to_csv(f\"/content/drive/MyDrive/Colab Notebooks/prefetcher_1_seq_length_{seq_length}.csv\", mode='a', header=False)\n",
        "\n",
        "    print(\"\\naccuracy except 0 and 1000\")\n",
        "    print(round(correct/total_num_except_0_1000*100,2))\n",
        "    print(\"first number accuracy\")\n",
        "    print(round(first_correct/total_num_except_0_1000*100,2))\n",
        "    print(\"second number accuracy\")\n",
        "    print(round(second_correct/total_num_except_0_1000*100,2))\n",
        "\n",
        "Cov = pd.read_csv(f\"/content/drive/MyDrive/Colab Notebooks/prefetcher_1_seq_length_{seq_length}.csv\", names = [\"batch_size\", \"epoch_num\", \"train_accuracy\", \"accuracy_except_0_and_1000\", \"first_number_accuracy\", \"second_number_accuracy\"])\n",
        "Cov.to_csv(f\"/content/drive/MyDrive/Colab Notebooks/prefetcher_1_seq_length_{seq_length}.csv\")"
      ],
      "execution_count": 14,
      "outputs": [
        {
          "output_type": "stream",
          "text": [
            "\n",
            "\n",
            "new model start!!\n",
            "32\n",
            "\n",
            "\n",
            "\n",
            "new model start!!\n",
            "64\n",
            "\n",
            "\n",
            "\n",
            "new model start!!\n",
            "128\n",
            "\n"
          ],
          "name": "stdout"
        }
      ]
    },
    {
      "cell_type": "code",
      "metadata": {
        "id": "ru4fuFfZGZs3"
      },
      "source": [
        ""
      ],
      "execution_count": null,
      "outputs": []
    }
  ]
}