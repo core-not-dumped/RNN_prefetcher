{
  "nbformat": 4,
  "nbformat_minor": 0,
  "metadata": {
    "colab": {
      "name": "Untitled1.ipynb",
      "provenance": [],
      "collapsed_sections": []
    },
    "kernelspec": {
      "name": "python3",
      "display_name": "Python 3"
    },
    "language_info": {
      "name": "python"
    },
    "accelerator": "GPU"
  },
  "cells": [
    {
      "cell_type": "markdown",
      "metadata": {
        "id": "04irhJqe1rwJ"
      },
      "source": [
        "##import"
      ]
    },
    {
      "cell_type": "code",
      "metadata": {
        "id": "FOJKr4Ujo7p7"
      },
      "source": [
        "%tensorflow_version 2.x\n",
        "from keras.datasets import imdb\n",
        "from keras.preprocessing import sequence\n",
        "import keras\n",
        "import tensorflow as tf\n",
        "import os\n",
        "import numpy as np\n",
        "import matplotlib.pyplot as plt"
      ],
      "execution_count": 2,
      "outputs": []
    },
    {
      "cell_type": "code",
      "metadata": {
        "id": "78-kpI_on6Z2"
      },
      "source": [
        "f = open(\"473.astar-s0.txt\", 'r')"
      ],
      "execution_count": 4,
      "outputs": []
    },
    {
      "cell_type": "code",
      "metadata": {
        "id": "WDdotnBUo0d8"
      },
      "source": [
        "unique_instr_id = list()\n",
        "cycle_count = list()\n",
        "load_address = list()\n",
        "instr_pointer_load = list()\n",
        "llc_hit_miss = list()\n",
        "\n",
        "f.seek(0, 0)\n",
        "while True:\n",
        "  line = f.readline()\n",
        "  if not line: break\n",
        "  split_line = line.split(', ')\n",
        "  unique_instr_id.append(split_line[0])\n",
        "  cycle_count.append(split_line[1])\n",
        "  load_address.append(split_line[2])\n",
        "  instr_pointer_load.append(split_line[3])\n",
        "  llc_hit_miss.append(split_line[4][:-1])\n",
        "\n",
        "for i in range(len(load_address)):\n",
        "  load_address[i] = int(int(load_address[i], 16)/64)"
      ],
      "execution_count": 5,
      "outputs": []
    },
    {
      "cell_type": "code",
      "metadata": {
        "id": "akRc2OJF2Z5t",
        "colab": {
          "base_uri": "https://localhost:8080/",
          "height": 303
        },
        "outputId": "e60fea6a-b298-4182-af16-ed0732e42399"
      },
      "source": [
        "delta = list()\n",
        "for i in range(len(load_address)-1):\n",
        "  delta.append(load_address[i+1] - load_address[i])\n",
        "\n",
        "plot_this = list()\n",
        "for i in range(len(load_address)-1):\n",
        "  if delta[i] > 2000:\n",
        "    continue\n",
        "  if delta[i] < -2000:\n",
        "    continue\n",
        "  plot_this.append(delta[i])\n",
        "plt.hist(plot_this, bins=100)\n",
        "plt.show()\n",
        "\n",
        "for i in range(len(delta)):\n",
        "  if delta[i] > 500:\n",
        "    delta[i] = 1000\n",
        "    continue\n",
        "  if delta[i] < -500:\n",
        "    delta[i] = 0\n",
        "    continue\n",
        "  delta[i] += 500\n",
        "\n",
        "print(delta[0:100])"
      ],
      "execution_count": 6,
      "outputs": [
        {
          "output_type": "display_data",
          "data": {
            "image/png": "[encoded data removed]",
            "text/plain": [
              "<Figure size 432x288 with 1 Axes>"
            ]
          },
          "metadata": {
            "tags": [],
            "needs_background": "light"
          }
        },
        {
          "output_type": "stream",
          "text": [
            "[687, 312, 445, 755, 611, 566, 515, 584, 334, 698, 576, 584, 544, 164, 903, 564, 582, 532, 1000, 0, 969, 436, 1000, 591, 564, 0, 1000, 0, 531, 1000, 586, 532, 510, 586, 0, 1000, 618, 564, 513, 532, 583, 516, 564, 564, 564, 597, 532, 532, 0, 1000, 751, 564, 602, 532, 532, 526, 564, 563, 0, 1000, 564, 602, 532, 532, 404, 622, 564, 0, 1000, 564, 597, 531, 437, 370, 768, 564, 589, 532, 571, 461, 603, 301, 763, 589, 0, 1000, 0, 1000, 1000, 0, 532, 347, 685, 1000, 0, 781, 0, 1000, 563, 501]\n"
          ],
          "name": "stdout"
        }
      ]
    },
    {
      "cell_type": "code",
      "metadata": {
        "id": "UugPrPR3XmDh"
      },
      "source": [
        "seq_length = 10 # length of sequence for a training example\n",
        "epoch = 10"
      ],
      "execution_count": 7,
      "outputs": []
    },
    {
      "cell_type": "markdown",
      "metadata": {
        "id": "BGoQvV3PdVxN"
      },
      "source": [
        "##make set"
      ]
    },
    {
      "cell_type": "code",
      "metadata": {
        "id": "idYEt4iiLcUL"
      },
      "source": [
        "examples_per_epoch = len(delta)//(seq_length+1)\n",
        "dataset = tf.data.Dataset.from_tensor_slices(delta)"
      ],
      "execution_count": 8,
      "outputs": []
    },
    {
      "cell_type": "code",
      "metadata": {
        "id": "UO3LVyY5WQep"
      },
      "source": [
        "sequences = dataset.batch(seq_length+1, drop_remainder=True)"
      ],
      "execution_count": 9,
      "outputs": []
    },
    {
      "cell_type": "code",
      "metadata": {
        "id": "TKT6GPUXWUQf"
      },
      "source": [
        "def split_input_target(chunk):  # for the example: 1 2 3 4 5\n",
        "    input_text = chunk[:-1]  # 1 2 3 4\n",
        "    target_text = chunk[1:]  # 2 3 4 5\n",
        "    return input_text, target_text  # 1 2 3 4, 2 3 4 5\n",
        "\n",
        "dataset = sequences.map(split_input_target)  # we use map to apply the above function to every entry"
      ],
      "execution_count": 10,
      "outputs": []
    },
    {
      "cell_type": "code",
      "metadata": {
        "colab": {
          "base_uri": "https://localhost:8080/"
        },
        "id": "Htr66W_bWzOo",
        "outputId": "1e21f6a6-ce24-4e2d-d763-d5014e12b035"
      },
      "source": [
        "for x, y in dataset.take(2):\n",
        "  print(\"\\n\\nEXAMPLE\\n\")\n",
        "  print(\"INPUT\")\n",
        "  print(x)\n",
        "  print(\"\\nOUTPUT\")\n",
        "  print(y)"
      ],
      "execution_count": 11,
      "outputs": [
        {
          "output_type": "stream",
          "text": [
            "\n",
            "\n",
            "EXAMPLE\n",
            "\n",
            "INPUT\n",
            "tf.Tensor([687 312 445 755 611 566 515 584 334 698], shape=(10,), dtype=int32)\n",
            "\n",
            "OUTPUT\n",
            "tf.Tensor([312 445 755 611 566 515 584 334 698 576], shape=(10,), dtype=int32)\n",
            "\n",
            "\n",
            "EXAMPLE\n",
            "\n",
            "INPUT\n",
            "tf.Tensor([ 584  544  164  903  564  582  532 1000    0  969], shape=(10,), dtype=int32)\n",
            "\n",
            "OUTPUT\n",
            "tf.Tensor([ 544  164  903  564  582  532 1000    0  969  436], shape=(10,), dtype=int32)\n"
          ],
          "name": "stdout"
        }
      ]
    },
    {
      "cell_type": "code",
      "metadata": {
        "id": "dsOe13nFXA39"
      },
      "source": [
        "BATCH_SIZE = 64\n",
        "ADDRESS_PREDICT_SIZE = 1001\n",
        "EMBEDDING_DIM = 256\n",
        "RNN_UNITS = 1024\n",
        "\n",
        "BUFFER_SIZE = 10000\n",
        "\n",
        "data = dataset.shuffle(BUFFER_SIZE).batch(BATCH_SIZE, drop_remainder=True)"
      ],
      "execution_count": 12,
      "outputs": []
    },
    {
      "cell_type": "markdown",
      "metadata": {
        "id": "hFdzQVmCde-t"
      },
      "source": [
        "##make model"
      ]
    },
    {
      "cell_type": "code",
      "metadata": {
        "id": "HotnQ_oAwfVD",
        "colab": {
          "base_uri": "https://localhost:8080/"
        },
        "outputId": "6ffc8069-33df-4d7f-e96b-01b499025c32"
      },
      "source": [
        "def build_model(address_predict_size, embedding_dim, rnn_units, batch_size):\n",
        "  model = tf.keras.Sequential([\n",
        "    tf.keras.layers.Embedding(address_predict_size, embedding_dim,\n",
        "                              batch_input_shape=[batch_size, None]),\n",
        "    tf.keras.layers.LSTM(rnn_units,\n",
        "                        return_sequences=True,\n",
        "                        stateful=True,\n",
        "                        recurrent_initializer='glorot_uniform'),\n",
        "    tf.keras.layers.Dense(address_predict_size)\n",
        "  ])\n",
        "  return model\n",
        "\n",
        "model = build_model(ADDRESS_PREDICT_SIZE,EMBEDDING_DIM, RNN_UNITS, BATCH_SIZE)\n",
        "model.summary()"
      ],
      "execution_count": 13,
      "outputs": [
        {
          "output_type": "stream",
          "text": [
            "Model: \"sequential\"\n",
            "_________________________________________________________________\n",
            "Layer (type)                 Output Shape              Param #   \n",
            "=================================================================\n",
            "embedding (Embedding)        (64, None, 256)           256256    \n",
            "_________________________________________________________________\n",
            "lstm (LSTM)                  (64, None, 1024)          5246976   \n",
            "_________________________________________________________________\n",
            "dense (Dense)                (64, None, 1001)          1026025   \n",
            "=================================================================\n",
            "Total params: 6,529,257\n",
            "Trainable params: 6,529,257\n",
            "Non-trainable params: 0\n",
            "_________________________________________________________________\n"
          ],
          "name": "stdout"
        }
      ]
    },
    {
      "cell_type": "markdown",
      "metadata": {
        "id": "TXvndeNwhJDA"
      },
      "source": [
        "##Create loss function"
      ]
    },
    {
      "cell_type": "code",
      "metadata": {
        "colab": {
          "base_uri": "https://localhost:8080/"
        },
        "id": "ssgfRPiXdgQj",
        "outputId": "fed01137-2a9b-4ce3-bfa6-70718af12ab6"
      },
      "source": [
        "for input_example_batch, target_example_batch in data.take(1):\n",
        "  example_batch_predictions = model(input_example_batch)  # ask our model for a prediction on our first batch of training data (64 entries)\n",
        "  print(example_batch_predictions.shape, \"# (batch_size, sequence_length, address_prediect_size)\")  # print out the output shape"
      ],
      "execution_count": 14,
      "outputs": [
        {
          "output_type": "stream",
          "text": [
            "(64, 10, 1001) # (batch_size, sequence_length, address_prediect_size)\n"
          ],
          "name": "stdout"
        }
      ]
    },
    {
      "cell_type": "code",
      "metadata": {
        "colab": {
          "base_uri": "https://localhost:8080/"
        },
        "id": "R5liaCeHfsXp",
        "outputId": "1027fabe-be48-4ce9-aa2d-eb3e46721c11"
      },
      "source": [
        "# we can see that the predicition is an array of 64 arrays, one for each entry in the batch\n",
        "print(len(example_batch_predictions))\n",
        "print(example_batch_predictions)"
      ],
      "execution_count": 15,
      "outputs": [
        {
          "output_type": "stream",
          "text": [
            "64\n",
            "tf.Tensor(\n",
            "[[[-2.1475571e-04 -3.1965508e-03 -2.3681654e-03 ... -1.0852481e-03\n",
            "   -1.0408387e-03 -2.3741175e-03]\n",
            "  [-6.9697103e-06 -7.2338869e-04 -6.0637097e-04 ... -4.9342453e-03\n",
            "    1.2342841e-04  1.9204148e-04]\n",
            "  [ 3.7591555e-05 -4.1760444e-03 -3.1575307e-03 ... -4.3776557e-03\n",
            "   -1.1686743e-03 -2.0621903e-03]\n",
            "  ...\n",
            "  [ 3.1597589e-04 -5.3803646e-03 -4.0877899e-03 ... -7.0034475e-03\n",
            "   -1.7795295e-03 -2.7945350e-04]\n",
            "  [ 6.4217125e-04 -3.2829405e-03 -2.2104720e-03 ... -8.7249177e-03\n",
            "   -8.3681796e-04  1.8987701e-03]\n",
            "  [ 1.7982729e-04 -1.3348637e-03 -8.0845988e-04 ... -9.9122142e-03\n",
            "   -1.3918501e-04  3.8463133e-03]]\n",
            "\n",
            " [[-2.1475571e-04 -3.1965508e-03 -2.3681654e-03 ... -1.0852481e-03\n",
            "   -1.0408387e-03 -2.3741175e-03]\n",
            "  [ 4.7726842e-04 -6.3305441e-03 -4.3776464e-03 ... -1.6427020e-03\n",
            "   -1.8303167e-03 -4.4383965e-03]\n",
            "  [ 1.0309824e-03 -3.6701204e-03 -2.1692947e-03 ... -5.1240008e-03\n",
            "   -4.2986238e-04 -1.5321580e-03]\n",
            "  ...\n",
            "  [ 7.6655047e-03 -1.2357674e-02 -5.9587006e-03 ... -3.2960081e-03\n",
            "   -4.5204425e-04 -5.7993210e-03]\n",
            "  [ 5.0150501e-03 -8.0320640e-03 -3.2213065e-03 ... -5.2557937e-03\n",
            "    1.0489229e-03 -2.2032268e-03]\n",
            "  [ 3.5667450e-03 -1.0039850e-02 -1.5864130e-03 ... -2.0618269e-03\n",
            "    3.2881772e-04 -3.6751104e-03]]\n",
            "\n",
            " [[-2.1475571e-04 -3.1965508e-03 -2.3681654e-03 ... -1.0852481e-03\n",
            "   -1.0408387e-03 -2.3741175e-03]\n",
            "  [ 4.7726842e-04 -6.3305441e-03 -4.3776464e-03 ... -1.6427020e-03\n",
            "   -1.8303167e-03 -4.4383965e-03]\n",
            "  [ 1.0309824e-03 -3.6701204e-03 -2.1692947e-03 ... -5.1240008e-03\n",
            "   -4.2986238e-04 -1.5321580e-03]\n",
            "  ...\n",
            "  [ 6.2774314e-04 -7.8829061e-03 -3.6839850e-03 ... -6.6279438e-03\n",
            "    2.2606335e-04 -4.1945738e-04]\n",
            "  [ 3.7147367e-04 -4.8236731e-03 -1.8206161e-03 ... -8.5995859e-03\n",
            "    7.0084212e-04  1.8046313e-03]\n",
            "  [ 2.3831193e-04 -7.7641741e-03 -4.3264837e-03 ... -6.7442427e-03\n",
            "   -9.4995933e-04 -8.9058874e-04]]\n",
            "\n",
            " ...\n",
            "\n",
            " [[-6.9380103e-04  2.3944143e-03  1.4055049e-03 ... -4.3530548e-03\n",
            "    9.4461464e-04  2.2630645e-03]\n",
            "  [-1.4941731e-03  4.3894900e-03  2.2151943e-03 ... -7.4784732e-03\n",
            "    1.3167881e-03  4.2679952e-03]\n",
            "  [-1.6711876e-03  3.5645309e-04 -1.2556858e-03 ... -6.4774272e-03\n",
            "   -5.9433520e-04  1.3598715e-03]\n",
            "  ...\n",
            "  [ 1.4831316e-04 -3.8283309e-03 -9.7127393e-04 ... -6.6826567e-03\n",
            "   -1.6390220e-03  1.0404309e-03]\n",
            "  [ 6.3655508e-04 -7.2922199e-03 -3.6884402e-03 ... -5.3882282e-03\n",
            "   -2.1793630e-03 -9.1974682e-04]\n",
            "  [ 9.5109985e-04 -4.8053265e-03 -1.8882416e-03 ... -7.5508514e-03\n",
            "   -7.9625845e-04  1.6402968e-03]]\n",
            "\n",
            " [[ 1.5877782e-04 -3.4360702e-03  1.0621550e-03 ...  2.9685252e-04\n",
            "   -3.7294292e-04 -2.1529594e-03]\n",
            "  [ 2.4204658e-04 -6.1014779e-03 -1.4760733e-03 ... -6.4833858e-04\n",
            "   -8.6792256e-04 -3.4575679e-03]\n",
            "  [ 4.6640573e-04 -3.0588477e-03  1.4006979e-04 ... -4.4281911e-03\n",
            "    5.1613036e-04 -3.2179026e-04]\n",
            "  ...\n",
            "  [ 1.2960328e-03 -7.7342191e-03 -4.5181010e-03 ... -5.4000639e-03\n",
            "   -1.8195518e-03 -2.1683117e-03]\n",
            "  [ 1.5005096e-03 -5.1568509e-03 -2.3150928e-03 ... -7.3940814e-03\n",
            "   -7.5896428e-04  3.5821035e-04]\n",
            "  [ 1.4139095e-03 -8.4158843e-03 -4.5193871e-03 ... -5.4993192e-03\n",
            "   -1.8565331e-03 -1.9899169e-03]]\n",
            "\n",
            " [[-6.9380103e-04  2.3944143e-03  1.4055049e-03 ... -4.3530548e-03\n",
            "    9.4461464e-04  2.2630645e-03]\n",
            "  [-1.0046946e-03 -1.2176285e-03 -1.5917787e-03 ... -4.2064586e-03\n",
            "   -6.3014711e-04 -3.5885436e-04]\n",
            "  [-2.5074016e-03 -5.5442238e-03 -3.2697404e-03 ... -3.3063670e-03\n",
            "    1.6137364e-03  2.1980079e-04]\n",
            "  ...\n",
            "  [ 3.7837427e-04 -7.9617687e-03 -4.7915764e-03 ... -7.5106979e-03\n",
            "    7.3707299e-05 -6.2322587e-04]\n",
            "  [ 8.6830871e-04 -1.0424781e-02 -6.6909115e-03 ... -6.2584733e-03\n",
            "   -1.4115592e-03 -3.1062721e-03]\n",
            "  [-4.5268144e-04 -1.3616527e-02 -7.2888518e-03 ... -4.5876862e-03\n",
            "    9.4386889e-04 -2.3946683e-03]]], shape=(64, 10, 1001), dtype=float32)\n"
          ],
          "name": "stdout"
        }
      ]
    },
    {
      "cell_type": "code",
      "metadata": {
        "colab": {
          "base_uri": "https://localhost:8080/"
        },
        "id": "2e2UN4HfgRqD",
        "outputId": "342673e2-dc72-44d4-f8da-34b7da71c261"
      },
      "source": [
        "# lets examine one prediction\n",
        "pred = example_batch_predictions[0]\n",
        "print(len(pred))\n",
        "print(pred)\n",
        "# notice this is a 2d array of length 100, where each interior array is the prediction for the next character at each time step"
      ],
      "execution_count": 16,
      "outputs": [
        {
          "output_type": "stream",
          "text": [
            "10\n",
            "tf.Tensor(\n",
            "[[-2.1475571e-04 -3.1965508e-03 -2.3681654e-03 ... -1.0852481e-03\n",
            "  -1.0408387e-03 -2.3741175e-03]\n",
            " [-6.9697103e-06 -7.2338869e-04 -6.0637097e-04 ... -4.9342453e-03\n",
            "   1.2342841e-04  1.9204148e-04]\n",
            " [ 3.7591555e-05 -4.1760444e-03 -3.1575307e-03 ... -4.3776557e-03\n",
            "  -1.1686743e-03 -2.0621903e-03]\n",
            " ...\n",
            " [ 3.1597589e-04 -5.3803646e-03 -4.0877899e-03 ... -7.0034475e-03\n",
            "  -1.7795295e-03 -2.7945350e-04]\n",
            " [ 6.4217125e-04 -3.2829405e-03 -2.2104720e-03 ... -8.7249177e-03\n",
            "  -8.3681796e-04  1.8987701e-03]\n",
            " [ 1.7982729e-04 -1.3348637e-03 -8.0845988e-04 ... -9.9122142e-03\n",
            "  -1.3918501e-04  3.8463133e-03]], shape=(10, 1001), dtype=float32)\n"
          ],
          "name": "stdout"
        }
      ]
    },
    {
      "cell_type": "code",
      "metadata": {
        "colab": {
          "base_uri": "https://localhost:8080/"
        },
        "id": "eiNqhGtFgVHL",
        "outputId": "df42e15d-e879-4922-db9d-c509c7a369c8"
      },
      "source": [
        "# and finally well look at a prediction at the first timestep\n",
        "time_pred = pred[0]\n",
        "print(len(time_pred))\n",
        "print(time_pred)\n",
        "# and of course its 65 values representing the probabillity of each character occuring next"
      ],
      "execution_count": 17,
      "outputs": [
        {
          "output_type": "stream",
          "text": [
            "1001\n",
            "tf.Tensor(\n",
            "[-0.00021476 -0.00319655 -0.00236817 ... -0.00108525 -0.00104084\n",
            " -0.00237412], shape=(1001,), dtype=float32)\n"
          ],
          "name": "stdout"
        }
      ]
    },
    {
      "cell_type": "code",
      "metadata": {
        "colab": {
          "base_uri": "https://localhost:8080/"
        },
        "id": "dfbGZ6pTgXii",
        "outputId": "a66e3f42-d58b-487e-b2fc-f42f706a404d"
      },
      "source": [
        "# If we want to determine the predicted character we need to sample the output distribution (pick a value based on probabillity)\n",
        "sampled_indices = tf.random.categorical(pred, num_samples=1)\n",
        "\n",
        "# now we can reshape that array and convert all the integers to numbers to see the actual characters\n",
        "sampled_indices = np.reshape(sampled_indices, (1, -1))[0]\n",
        "predicted = sampled_indices\n",
        "\n",
        "predicted  # and this is what the model predicted for training sequence 1"
      ],
      "execution_count": 18,
      "outputs": [
        {
          "output_type": "execute_result",
          "data": {
            "text/plain": [
              "array([238, 407, 342, 856, 515,   4, 571, 246, 771,  36])"
            ]
          },
          "metadata": {
            "tags": []
          },
          "execution_count": 18
        }
      ]
    },
    {
      "cell_type": "code",
      "metadata": {
        "id": "w3bzGULngZX0"
      },
      "source": [
        "def loss(labels, logits):\n",
        "  return tf.keras.losses.sparse_categorical_crossentropy(labels, logits, from_logits=True)"
      ],
      "execution_count": 19,
      "outputs": []
    },
    {
      "cell_type": "code",
      "metadata": {
        "id": "-geO637oiumN"
      },
      "source": [
        "model.compile(optimizer='adam', loss=loss)"
      ],
      "execution_count": 20,
      "outputs": []
    },
    {
      "cell_type": "code",
      "metadata": {
        "id": "h1aKCk7li3i5"
      },
      "source": [
        "# Directory where the checkpoints will be saved\n",
        "checkpoint_dir = './training_checkpoints'\n",
        "# Name of the checkpoint files\n",
        "checkpoint_prefix = os.path.join(checkpoint_dir, \"ckpt_{epoch}\")\n",
        "\n",
        "checkpoint_callback=tf.keras.callbacks.ModelCheckpoint(\n",
        "    filepath=checkpoint_prefix,\n",
        "    save_weights_only=True)"
      ],
      "execution_count": 21,
      "outputs": []
    },
    {
      "cell_type": "code",
      "metadata": {
        "colab": {
          "base_uri": "https://localhost:8080/"
        },
        "id": "OZ7HZgd8jC_I",
        "outputId": "3640a815-6c56-4409-8703-8ac458e4236c"
      },
      "source": [
        "history = model.fit(data, epochs=epoch, callbacks=[checkpoint_callback])"
      ],
      "execution_count": 22,
      "outputs": [
        {
          "output_type": "stream",
          "text": [
            "Epoch 1/10\n",
            "1024/1024 [==============================] - 16s 14ms/step - loss: 1.9622\n",
            "Epoch 2/10\n",
            "1024/1024 [==============================] - 15s 14ms/step - loss: 1.8705\n",
            "Epoch 3/10\n",
            "1024/1024 [==============================] - 15s 14ms/step - loss: 1.8374\n",
            "Epoch 4/10\n",
            "1024/1024 [==============================] - 15s 15ms/step - loss: 1.8047\n",
            "Epoch 5/10\n",
            "1024/1024 [==============================] - 15s 14ms/step - loss: 1.7771\n",
            "Epoch 6/10\n",
            "1024/1024 [==============================] - 15s 15ms/step - loss: 1.7526\n",
            "Epoch 7/10\n",
            "1024/1024 [==============================] - 15s 15ms/step - loss: 1.7300\n",
            "Epoch 8/10\n",
            "1024/1024 [==============================] - 15s 15ms/step - loss: 1.7085\n",
            "Epoch 9/10\n",
            "1024/1024 [==============================] - 15s 15ms/step - loss: 1.6858\n",
            "Epoch 10/10\n",
            "1024/1024 [==============================] - 15s 15ms/step - loss: 1.6637\n"
          ],
          "name": "stdout"
        }
      ]
    },
    {
      "cell_type": "code",
      "metadata": {
        "id": "ONFX5DuQjFXs"
      },
      "source": [
        "model = build_model(ADDRESS_PREDICT_SIZE, EMBEDDING_DIM, RNN_UNITS, batch_size=1)"
      ],
      "execution_count": 23,
      "outputs": []
    },
    {
      "cell_type": "code",
      "metadata": {
        "id": "wkZYfSYElUUO"
      },
      "source": [
        "model.load_weights(tf.train.latest_checkpoint(checkpoint_dir))\n",
        "model.build(tf.TensorShape([1, None]))"
      ],
      "execution_count": 24,
      "outputs": []
    },
    {
      "cell_type": "code",
      "metadata": {
        "id": "FxTh7S5FlgUB"
      },
      "source": [
        "def generate_address(model, start_address):\n",
        "  # Evaluation step (generating address using the learned model)\n",
        "\n",
        "  # Number of characters to generate\n",
        "  num_generate = 2\n",
        "\n",
        "  input_eval = tf.expand_dims(start_address, 0)\n",
        "\n",
        "  # Empty string to store our results\n",
        "  generated = []\n",
        "\n",
        "  # Low temperatures results in more predictable.\n",
        "  temperature = 1.0\n",
        "\n",
        "  # Here batch size == 1\n",
        "  model.reset_states()\n",
        "\n",
        "  predictions = model(input_eval)\n",
        "\n",
        "  # remove the batch dimension\n",
        "  predictions = tf.squeeze(predictions, 0)\n",
        "\n",
        "  # using a categorical distribution to predict the character returned by the model\n",
        "  predictions = predictions / temperature\n",
        "\n",
        "  predictions_np = predictions.numpy()\n",
        "\n",
        "  # using probability\n",
        "  '''\n",
        "  generated = tf.random.categorical(predictions_np, num_samples=num_generate)[-1,0].numpy()  \n",
        "  '''\n",
        "\n",
        "  # using argmax\n",
        "  for i in range(num_generate):\n",
        "    predicted_id = tf.argmax(predictions_np[seq_length-1])\n",
        "    for j in range(seq_length):\n",
        "      predictions_np[j][predicted_id] = 0\n",
        "    generated.append((int)(predicted_id))\n",
        "\n",
        "  return generated"
      ],
      "execution_count": 25,
      "outputs": []
    },
    {
      "cell_type": "code",
      "metadata": {
        "id": "UkNrwPC2oVJl",
        "colab": {
          "base_uri": "https://localhost:8080/"
        },
        "outputId": "0c9679fb-e6e0-45e2-b5ac-77df716480ee"
      },
      "source": [
        "inp = [687, 312, 445, 755, 611, 566, 515, 584, 334, 698]\n",
        "print(generate_address(model, inp))"
      ],
      "execution_count": 26,
      "outputs": [
        {
          "output_type": "stream",
          "text": [
            "[945, 937]\n"
          ],
          "name": "stdout"
        }
      ]
    },
    {
      "cell_type": "markdown",
      "metadata": {
        "id": "gsOAxDdMtXx7"
      },
      "source": [
        "##accuracy 측정"
      ]
    },
    {
      "cell_type": "code",
      "metadata": {
        "id": "bXfqm6EOtaNp",
        "colab": {
          "base_uri": "https://localhost:8080/"
        },
        "outputId": "c0543c18-1fe0-459d-ec31-de7f96778897"
      },
      "source": [
        "from tqdm import tqdm\n",
        "\n",
        "total_num = 0\n",
        "total_num_except_0_1000 = 0\n",
        "correct = 0\n",
        "\n",
        "for i in tqdm(range(len(delta)-seq_length), desc='check accuracy..'):\n",
        "  total_num += 1\n",
        "  if delta[i+seq_length] == 1000:\n",
        "    continue\n",
        "  if delta[i+seq_length] == 0:\n",
        "    continue\n",
        "  total_num_except_0_1000 += 1\n",
        "  lstm_ans = generate_address(model,delta[i:i+seq_length])\n",
        "  if delta[i+seq_length] in lstm_ans:\n",
        "    correct += 1\n",
        "\n",
        "print(\"accuracy\")\n",
        "print(correct/total_num)\n",
        "print(\"accuracy except 0 and 1000\")\n",
        "print(correct/total_num_except_0_1000)"
      ],
      "execution_count": null,
      "outputs": [
        {
          "output_type": "stream",
          "text": [
            "check accuracy..:   7%|▋         | 51222/721561 [01:46<17:25, 641.20it/s]"
          ],
          "name": "stderr"
        }
      ]
    },
    {
      "cell_type": "markdown",
      "metadata": {
        "id": "dpqrC2yMEWrd"
      },
      "source": [
        "#seq_length = 5\n",
        "###epoch = 10\n",
        "#####accuracy: 3.96%\n",
        "#####accuracy except 0 and 1000: 15.3%\n",
        "###epoch = 20\n",
        "#####accuracy: 4.39%\n",
        "#####accuracy except 0 and 1000: 17.05%\n",
        "###epoch = 30\n",
        "#####accuracy: 4.51%\n",
        "#####accuracy except 0 and 1000: 17.53%\n",
        "#####46min"
      ]
    },
    {
      "cell_type": "markdown",
      "metadata": {
        "id": "YcqQKAUnVu55"
      },
      "source": [
        "\n",
        "#seq_length = 10\n",
        "###epoch = 10\n",
        "#####accuracy: 4.55%\n",
        "#####accuracy except 0 and 1000: 17.7%\n",
        "###epoch = 20\n",
        "#####accuracy: 6.01%\n",
        "#####accuracy except 0 and 1000: 23.3%\n",
        "#####46min"
      ]
    },
    {
      "cell_type": "markdown",
      "metadata": {
        "id": "CueCQc2JVu85"
      },
      "source": [
        "#seq_length = 20\n",
        "###epoch = 10\n",
        "#####accuracy: 4.37%\n",
        "#####accuracy except 0 and 1000: 17.0%\n",
        "#####50min"
      ]
    },
    {
      "cell_type": "markdown",
      "metadata": {
        "id": "tGZVMhkkvQyg"
      },
      "source": [
        "#seq_length = 30\n",
        "###epoch = 10\n",
        "#####accuracy: 4.00%\n",
        "#####accuracy except 0 and 1000: 15.51%\n",
        "#####55min"
      ]
    },
    {
      "cell_type": "code",
      "metadata": {
        "id": "GmHw1GMlN25j"
      },
      "source": [
        ""
      ],
      "execution_count": null,
      "outputs": []
    },
    {
      "cell_type": "markdown",
      "metadata": {
        "id": "07S2AqbDTAm9"
      },
      "source": [
        "https://jaehyeongan.github.io/2019/03/26/KERAS-FUNCTIONAL-API-MULTI-INPUT-%EB%AA%A8%EB%8D%B8-%EA%B5%AC%EC%B6%95%ED%95%98%EA%B8%B0/"
      ]
    },
    {
      "cell_type": "markdown",
      "metadata": {
        "id": "kAAeSc1HPvsP"
      },
      "source": [
        "https://gooopy.tistory.com/103?category=876252"
      ]
    }
  ]
}