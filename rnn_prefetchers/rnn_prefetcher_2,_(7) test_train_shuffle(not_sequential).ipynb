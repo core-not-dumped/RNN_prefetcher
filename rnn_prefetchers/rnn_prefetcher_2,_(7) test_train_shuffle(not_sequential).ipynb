{
  "nbformat": 4,
  "nbformat_minor": 0,
  "metadata": {
    "accelerator": "GPU",
    "colab": {
      "name": "rnn_prefetcher_2, (5) change_hidden_layer, Embedding_layer.ipynb",
      "provenance": [],
      "collapsed_sections": []
    },
    "kernelspec": {
      "display_name": "Python 3",
      "name": "python3"
    },
    "language_info": {
      "name": "python"
    }
  },
  "cells": [
    {
      "cell_type": "code",
      "metadata": {
        "colab": {
          "base_uri": "https://localhost:8080/"
        },
        "id": "Z2Vx6drIDwxa",
        "outputId": "377f960b-5186-47c5-d980-bd73c18e4b83"
      },
      "source": [
        "from google.colab import drive\n",
        "drive.mount('/content/drive')"
      ],
      "execution_count": 1,
      "outputs": [
        {
          "output_type": "stream",
          "text": [
            "Mounted at /content/drive\n"
          ],
          "name": "stdout"
        }
      ]
    },
    {
      "cell_type": "markdown",
      "metadata": {
        "id": "04irhJqe1rwJ"
      },
      "source": [
        "##import"
      ]
    },
    {
      "cell_type": "code",
      "metadata": {
        "id": "FOJKr4Ujo7p7"
      },
      "source": [
        "%tensorflow_version 2.x\n",
        "from keras.datasets import imdb\n",
        "from keras.preprocessing import sequence\n",
        "from keras.layers import Input, Dense, Embedding, LSTM\n",
        "from keras.models import Model\n",
        "import keras\n",
        "import tensorflow as tf\n",
        "import os\n",
        "import numpy as np\n",
        "import matplotlib.pyplot as plt\n",
        "from tqdm import tqdm"
      ],
      "execution_count": 1,
      "outputs": []
    },
    {
      "cell_type": "markdown",
      "metadata": {
        "id": "JxOb-1s2dYX5"
      },
      "source": [
        "##change hyperparameter to make best model"
      ]
    },
    {
      "cell_type": "code",
      "metadata": {
        "id": "9b1Gq8G_8Oy9"
      },
      "source": [
        "seq_length = 5 # length of sequence for a training example\n",
        "epoch = 20\n",
        "MAXLEN = 43\n",
        "DENSE_HIDDEN_SIZE = 20\n",
        "train_model_percentage = 80\n",
        "\n",
        "BATCH_SIZE = 64\n",
        "ADDRESS_PREDICT_SIZE = 1001\n",
        "EMBEDDING_DIM = 64\n",
        "RNN_UNITS = 1024\n",
        "\n",
        "FIRST_OUTPUT_SIZE = 256\n",
        "SECOND_OUTPUT_SIZE = 16\n",
        "FINAL_HIDDEN_SIZE = 128\n",
        "\n",
        "BUFFER_SIZE = 10000"
      ],
      "execution_count": 2,
      "outputs": []
    },
    {
      "cell_type": "markdown",
      "metadata": {
        "id": "vVvJs6ImdePz"
      },
      "source": [
        "##open text file"
      ]
    },
    {
      "cell_type": "code",
      "metadata": {
        "id": "YMYGlMIaDxk_"
      },
      "source": [
        "#f = open(\"473.astar-s0.txt\", 'r')\n",
        "f = open('/content/drive/MyDrive/Colab Notebooks/dataset/473.astar-s0.txt', 'r')"
      ],
      "execution_count": 3,
      "outputs": []
    },
    {
      "cell_type": "markdown",
      "metadata": {
        "id": "GxRMDMOuc3cK"
      },
      "source": [
        "##text file split"
      ]
    },
    {
      "cell_type": "code",
      "metadata": {
        "id": "WDdotnBUo0d8",
        "colab": {
          "base_uri": "https://localhost:8080/"
        },
        "outputId": "0bb911b0-330f-4293-a247-6475810e889a"
      },
      "source": [
        "unique_instr_id = list()\n",
        "cycle_count = list()\n",
        "load_address = list()\n",
        "instr_pointer_load = list()\n",
        "llc_hit_miss = list()\n",
        "\n",
        "f.seek(0, 0)\n",
        "while True:\n",
        "  line = f.readline()\n",
        "  if not line: break\n",
        "  split_line = line.split(', ')\n",
        "  unique_instr_id.append(split_line[0])\n",
        "  cycle_count.append(split_line[1])\n",
        "  load_address.append(split_line[2])\n",
        "  instr_pointer_load.append(split_line[3])\n",
        "  llc_hit_miss.append(split_line[4][:-1])\n",
        "\n",
        "for i in range(len(load_address)):\n",
        "  load_address[i] = int(load_address[i], 16)//64\n",
        "\n",
        "print(\"\\nload_address example: \")\n",
        "print(load_address[:100])"
      ],
      "execution_count": 4,
      "outputs": [
        {
          "output_type": "stream",
          "text": [
            "\n",
            "load_address example: \n",
            "[702778646977, 702778647164, 702778646976, 702778646921, 702778647176, 702778647287, 702778647353, 702778647368, 702778647452, 702778647286, 702778647484, 702778647560, 702778647644, 702778647688, 702778647352, 702778647755, 702778647819, 702778647901, 702778647933, 4363500793931, 702778647351, 702778647820, 702778647756, 4363500793932, 4363500794023, 4363500794087, 174026416743, 702778647350, 174026416807, 174026416838, 2627809326406, 2627809326492, 2627809326524, 2627809326534, 2627809326620, 702778647349, 2627809326662, 2627809326780, 2627809326844, 2627809326857, 2627809326889, 2627809326972, 2627809326988, 2627809327052, 2627809327116, 2627809327180, 2627809327277, 2627809327309, 2627809327341, 702778647348, 2627809327115, 2627809327366, 2627809327430, 2627809327532, 2627809327564, 2627809327596, 2627809327622, 2627809327686, 2627809327749, 702778647347, 2627809327813, 2627809327877, 2627809327979, 2627809328011, 2627809328043, 2627809327947, 2627809328069, 2627809328133, 702778647346, 2627809328204, 2627809328268, 2627809328365, 2627809328396, 2627809328333, 2627809328203, 2627809328471, 2627809328535, 2627809328624, 2627809328656, 2627809328727, 2627809328688, 2627809328791, 2627809328592, 2627809328855, 2627809328944, 702778647345, 2627809328983, 702778647344, 2627809327191, 2627809329047, 2627809327248, 2627809327280, 2627809327127, 2627809327312, 2627809329111, 2627809327063, 2627809327344, 702778647343, 2627809329165, 2627809329228]\n"
          ],
          "name": "stdout"
        }
      ]
    },
    {
      "cell_type": "markdown",
      "metadata": {
        "id": "WIowzQBfdASI"
      },
      "source": [
        "##make delta list(first input)"
      ]
    },
    {
      "cell_type": "code",
      "metadata": {
        "colab": {
          "base_uri": "https://localhost:8080/",
          "height": 696
        },
        "id": "akRc2OJF2Z5t",
        "outputId": "cc1cffe8-ed11-4efd-8ef6-df9fe3ed4436"
      },
      "source": [
        "delta = list()\n",
        "for i in range(len(load_address)-1):\n",
        "  delta.append(load_address[i+1] - load_address[i])\n",
        "\n",
        "plot_this = list()\n",
        "for i in range(len(load_address)-1):\n",
        "  if delta[i] > 2000:\n",
        "    continue\n",
        "  if delta[i] < -2000:\n",
        "    continue\n",
        "  plot_this.append(delta[i])\n",
        "plt.hist(plot_this, bins=100)\n",
        "plt.show()\n",
        "\n",
        "for i in range(len(delta)):\n",
        "  if delta[i] > 500:\n",
        "    delta[i] = 1000\n",
        "    continue\n",
        "  if delta[i] < -500:\n",
        "    delta[i] = 0\n",
        "    continue\n",
        "  delta[i] += 500\n",
        "\n",
        "print(\"\\ndelta example, final delta:\")\n",
        "print(delta[0:100])\n",
        "print(delta[-1])\n",
        "\n",
        "delta_bundle = list()\n",
        "for i in range(len(delta) - seq_length):\n",
        "  delta_bundle.append(delta[i:i+seq_length+1])\n",
        "delta_bundle = np.array(delta_bundle)\n",
        "\n",
        "print(\"\\ndelta_bundle example:\")\n",
        "print(delta_bundle)\n",
        "\n",
        "rnn_data = delta_bundle[:,:-1]\n",
        "rnn_data = np.array(rnn_data)\n",
        "print(\"\\nfirst input example(rnn_data): \")\n",
        "print(rnn_data)"
      ],
      "execution_count": 5,
      "outputs": [
        {
          "output_type": "display_data",
          "data": {
            "image/png": "[encoded data removed]",
            "text/plain": [
              "<Figure size 432x288 with 1 Axes>"
            ]
          },
          "metadata": {
            "tags": [],
            "needs_background": "light"
          }
        },
        {
          "output_type": "stream",
          "text": [
            "\n",
            "delta example, final delta:\n",
            "[687, 312, 445, 755, 611, 566, 515, 584, 334, 698, 576, 584, 544, 164, 903, 564, 582, 532, 1000, 0, 969, 436, 1000, 591, 564, 0, 1000, 0, 531, 1000, 586, 532, 510, 586, 0, 1000, 618, 564, 513, 532, 583, 516, 564, 564, 564, 597, 532, 532, 0, 1000, 751, 564, 602, 532, 532, 526, 564, 563, 0, 1000, 564, 602, 532, 532, 404, 622, 564, 0, 1000, 564, 597, 531, 437, 370, 768, 564, 589, 532, 571, 461, 603, 301, 763, 589, 0, 1000, 0, 1000, 1000, 0, 532, 347, 685, 1000, 0, 781, 0, 1000, 563, 501]\n",
            "585\n",
            "\n",
            "delta_bundle example:\n",
            "[[ 687  312  445  755  611  566]\n",
            " [ 312  445  755  611  566  515]\n",
            " [ 445  755  611  566  515  584]\n",
            " ...\n",
            " [ 499    0  554  501 1000  499]\n",
            " [   0  554  501 1000  499    0]\n",
            " [ 554  501 1000  499    0  585]]\n",
            "\n",
            "first input example(rnn_data): \n",
            "[[ 687  312  445  755  611]\n",
            " [ 312  445  755  611  566]\n",
            " [ 445  755  611  566  515]\n",
            " ...\n",
            " [ 499    0  554  501 1000]\n",
            " [   0  554  501 1000  499]\n",
            " [ 554  501 1000  499    0]]\n"
          ],
          "name": "stdout"
        }
      ]
    },
    {
      "cell_type": "markdown",
      "metadata": {
        "id": "u0WZhSCddG6_"
      },
      "source": [
        "##make address binary input(second input)"
      ]
    },
    {
      "cell_type": "code",
      "metadata": {
        "colab": {
          "base_uri": "https://localhost:8080/"
        },
        "id": "ghPnKrm_T9uK",
        "outputId": "0fac3186-7266-4972-f81d-456037dd182d"
      },
      "source": [
        "# 8 -> [0,0,0,1] change int to categorical value\n",
        "def address_to_binary(a):\n",
        "  binary_int = list()\n",
        "  for i in range(MAXLEN):\n",
        "    # /1000 -> scaling\n",
        "    binary_int.append(a%2)\n",
        "    a = a//2\n",
        "  return binary_int\n",
        "\n",
        "print(\"\\n8 to binary category:\")\n",
        "print(address_to_binary(8))\n",
        "\n",
        "address_binary_input = list()\n",
        "for i in range(seq_length, len(load_address)-1):\n",
        "  address_binary_input.append(address_to_binary(load_address[i]))\n",
        "\n",
        "print(\"\\naddress binary input example\")\n",
        "print(address_binary_input[0])\n",
        "address_binary_input = np.array(address_binary_input)"
      ],
      "execution_count": 6,
      "outputs": [
        {
          "output_type": "stream",
          "text": [
            "\n",
            "8 to binary category:\n",
            "[0, 0, 0, 1, 0, 0, 0, 0, 0, 0, 0, 0, 0, 0, 0, 0, 0, 0, 0, 0, 0, 0, 0, 0, 0, 0, 0, 0, 0, 0, 0, 0, 0, 0, 0, 0, 0, 0, 0, 0, 0, 0, 0]\n",
            "\n",
            "address binary input example\n",
            "[1, 1, 1, 0, 1, 1, 1, 1, 0, 1, 0, 0, 0, 1, 0, 0, 1, 1, 1, 1, 1, 0, 1, 1, 0, 0, 0, 0, 0, 1, 0, 1, 1, 1, 0, 0, 0, 1, 0, 1, 0, 0, 0]\n"
          ],
          "name": "stdout"
        }
      ]
    },
    {
      "cell_type": "markdown",
      "metadata": {
        "id": "p4fX15EXvEU1"
      },
      "source": [
        "##make output data"
      ]
    },
    {
      "cell_type": "code",
      "metadata": {
        "id": "oSSSGeN5vGOk",
        "colab": {
          "base_uri": "https://localhost:8080/"
        },
        "outputId": "b8dccefa-fc11-4916-a51e-028b4f9d56f9"
      },
      "source": [
        "delta_output = delta_bundle[:,-1:]\n",
        "delta_output = delta_output.flatten()\n",
        "print(\"\\noutput example:\")\n",
        "print(delta_output)\n",
        "\n",
        "print('output shape')\n",
        "print(rnn_data.shape)\n",
        "print(address_binary_input.shape)\n",
        "print(delta_output.shape)"
      ],
      "execution_count": 7,
      "outputs": [
        {
          "output_type": "stream",
          "text": [
            "\n",
            "output example:\n",
            "[566 515 584 ... 499   0 585]\n",
            "output shape\n",
            "(721566, 5)\n",
            "(721566, 43)\n",
            "(721566,)\n"
          ],
          "name": "stdout"
        }
      ]
    },
    {
      "cell_type": "markdown",
      "metadata": {
        "id": "GPqZWJQ3wqnN"
      },
      "source": [
        "##kick dummy input and output"
      ]
    },
    {
      "cell_type": "code",
      "metadata": {
        "id": "99SRVdsFwpdQ",
        "colab": {
          "base_uri": "https://localhost:8080/"
        },
        "outputId": "b950df1d-4c26-409a-a92e-85dfdb1e0bd5"
      },
      "source": [
        "delete_list = list()\n",
        "for i in range(len(delta_output)):\n",
        "  if delta_output[i] == 0 or delta_output[i] == 1000:\n",
        "    delete_list.append(i)\n",
        "\n",
        "delta_output = np.delete(delta_output, delete_list)\n",
        "rnn_data = np.delete(rnn_data, delete_list, 0)\n",
        "address_binary_input = np.delete(address_binary_input, delete_list, 0)\n",
        "\n",
        "print(\"\\n0 and 1000 removed delta output example:\")\n",
        "print(delta_output)"
      ],
      "execution_count": 8,
      "outputs": [
        {
          "output_type": "stream",
          "text": [
            "\n",
            "0 and 1000 removed delta output example:\n",
            "[566 515 584 ... 501 499 585]\n"
          ],
          "name": "stdout"
        }
      ]
    },
    {
      "cell_type": "markdown",
      "metadata": {
        "id": "_FDGCR4fVzWI"
      },
      "source": [
        "##make train and test data"
      ]
    },
    {
      "cell_type": "code",
      "metadata": {
        "id": "h8OKMmFaVyMC"
      },
      "source": [
        "idx = np.arange(rnn_data.shape[0])\n",
        "np.random.shuffle(idx)\n",
        "\n",
        "rnn_data = rnn_data[idx]\n",
        "address_binary_input = address_binary_input[idx]\n",
        "delta_output = delta_output[idx]\n",
        "\n",
        "cut_index = len(rnn_data) * train_model_percentage // 100\n",
        "\n",
        "train_rnn_data = rnn_data[:cut_index,:]\n",
        "test_rnn_data = rnn_data[cut_index:]\n",
        "\n",
        "train_address_binary_input = address_binary_input[:cut_index,:]\n",
        "test_address_binary_input = address_binary_input[cut_index:,:]\n",
        "\n",
        "train_delta_output = delta_output[:cut_index]\n",
        "test_delta_output = delta_output[cut_index:]"
      ],
      "execution_count": 9,
      "outputs": []
    },
    {
      "cell_type": "markdown",
      "metadata": {
        "id": "4lAS4lwMKZ9T"
      },
      "source": [
        "## shuffle data"
      ]
    },
    {
      "cell_type": "code",
      "metadata": {
        "id": "GZx8sqcZKZQ2"
      },
      "source": [
        "idx = np.arange(train_rnn_data.shape[0])\n",
        "np.random.shuffle(idx)\n",
        "\n",
        "train_rnn_data = train_rnn_data[idx]\n",
        "train_address_binary_input = train_address_binary_input[idx]\n",
        "train_delta_output = train_delta_output[idx]\n",
        "\n",
        "idx = np.arange(test_rnn_data.shape[0])\n",
        "np.random.shuffle(idx)\n",
        "\n",
        "test_rnn_data = test_rnn_data[idx]\n",
        "test_address_binary_input = test_address_binary_input[idx]\n",
        "test_delta_output = test_delta_output[idx]"
      ],
      "execution_count": 10,
      "outputs": []
    },
    {
      "cell_type": "markdown",
      "metadata": {
        "id": "hFdzQVmCde-t"
      },
      "source": [
        "##make model"
      ]
    },
    {
      "cell_type": "code",
      "metadata": {
        "colab": {
          "base_uri": "https://localhost:8080/"
        },
        "id": "HotnQ_oAwfVD",
        "outputId": "891f49b9-af44-400b-f310-a3a7239fad9a"
      },
      "source": [
        "def build_model(address_predict_size, first_output_size, second_output_size, final_hidden_size, embedding_dim, rnn_units):\n",
        "  \n",
        "  input_x = Input(shape=(seq_length,))\n",
        "  x = Embedding(address_predict_size, embedding_dim)(input_x)\n",
        "  x = LSTM(rnn_units, recurrent_initializer='glorot_uniform') (x)\n",
        "  x = Dense(first_output_size, activation=\"sigmoid\") (x)\n",
        "  x = Model(inputs=input_x, outputs=x)\n",
        "\n",
        "  input_y = Input(shape=(MAXLEN,))\n",
        "  y = Dense(second_output_size, activation=\"relu\")(input_y)\n",
        "  y = Model(inputs=input_y, outputs=y)\n",
        "\n",
        "  combined = tf.keras.layers.concatenate([x.output, y.output])\n",
        "\n",
        "  z = Dense(final_hidden_size, activation=\"relu\")(combined)\n",
        "  z = Dense(address_predict_size, activation=\"sigmoid\")(z)\n",
        "\n",
        "  model = Model(inputs=[x.input, y.input], outputs=z)\n",
        "\n",
        "  return model\n",
        "\n",
        "model = build_model(ADDRESS_PREDICT_SIZE, FIRST_OUTPUT_SIZE, SECOND_OUTPUT_SIZE, FINAL_HIDDEN_SIZE, EMBEDDING_DIM, RNN_UNITS)\n",
        "model.summary()"
      ],
      "execution_count": 11,
      "outputs": [
        {
          "output_type": "stream",
          "text": [
            "Model: \"model_2\"\n",
            "__________________________________________________________________________________________________\n",
            "Layer (type)                    Output Shape         Param #     Connected to                     \n",
            "==================================================================================================\n",
            "input_1 (InputLayer)            [(None, 5)]          0                                            \n",
            "__________________________________________________________________________________________________\n",
            "embedding (Embedding)           (None, 5, 64)        64064       input_1[0][0]                    \n",
            "__________________________________________________________________________________________________\n",
            "lstm (LSTM)                     (None, 1024)         4460544     embedding[0][0]                  \n",
            "__________________________________________________________________________________________________\n",
            "input_2 (InputLayer)            [(None, 43)]         0                                            \n",
            "__________________________________________________________________________________________________\n",
            "dense (Dense)                   (None, 256)          262400      lstm[0][0]                       \n",
            "__________________________________________________________________________________________________\n",
            "dense_1 (Dense)                 (None, 16)           704         input_2[0][0]                    \n",
            "__________________________________________________________________________________________________\n",
            "tf.concat (TFOpLambda)          (None, 272)          0           dense[0][0]                      \n",
            "                                                                 dense_1[0][0]                    \n",
            "__________________________________________________________________________________________________\n",
            "dense_2 (Dense)                 (None, 128)          34944       tf.concat[0][0]                  \n",
            "__________________________________________________________________________________________________\n",
            "dense_3 (Dense)                 (None, 1001)         129129      dense_2[0][0]                    \n",
            "==================================================================================================\n",
            "Total params: 4,951,785\n",
            "Trainable params: 4,951,785\n",
            "Non-trainable params: 0\n",
            "__________________________________________________________________________________________________\n"
          ],
          "name": "stdout"
        }
      ]
    },
    {
      "cell_type": "code",
      "metadata": {
        "colab": {
          "base_uri": "https://localhost:8080/",
          "height": 754
        },
        "id": "Xml_MRUjtcCf",
        "outputId": "541392b0-88f7-4bd7-9dd6-b497da8d2e73"
      },
      "source": [
        "from tensorflow.keras.utils import plot_model\n",
        "plot_model(model, to_file='model.png')\n",
        "plot_model(model, to_file='model_shapes.png', show_shapes=True)"
      ],
      "execution_count": 12,
      "outputs": [
        {
          "output_type": "execute_result",
          "data": {
            "image/png": "[encoded data removed]",
            "text/plain": [
              "<IPython.core.display.Image object>"
            ]
          },
          "metadata": {
            "tags": []
          },
          "execution_count": 12
        }
      ]
    },
    {
      "cell_type": "markdown",
      "metadata": {
        "id": "Pw-J1O6fNlol"
      },
      "source": [
        "##create loss function"
      ]
    },
    {
      "cell_type": "code",
      "metadata": {
        "id": "w3bzGULngZX0"
      },
      "source": [
        "def loss(labels, logits):\n",
        "  return tf.keras.losses.sparse_categorical_crossentropy(labels, logits)"
      ],
      "execution_count": 13,
      "outputs": []
    },
    {
      "cell_type": "code",
      "metadata": {
        "id": "-geO637oiumN"
      },
      "source": [
        "model.compile(optimizer='adam', loss=loss, metrics=['accuracy'])"
      ],
      "execution_count": 14,
      "outputs": []
    },
    {
      "cell_type": "code",
      "metadata": {
        "id": "h1aKCk7li3i5"
      },
      "source": [
        "# Directory where the checkpoints will be saved\n",
        "checkpoint_dir = './training_checkpoints'\n",
        "# Name of the checkpoint files\n",
        "checkpoint_prefix = os.path.join(checkpoint_dir, \"ckpt_{epoch}\")\n",
        "\n",
        "checkpoint_callback=tf.keras.callbacks.ModelCheckpoint(\n",
        "    filepath=checkpoint_prefix,\n",
        "    save_weights_only=True)"
      ],
      "execution_count": 15,
      "outputs": []
    },
    {
      "cell_type": "code",
      "metadata": {
        "colab": {
          "base_uri": "https://localhost:8080/"
        },
        "id": "OZ7HZgd8jC_I",
        "outputId": "216f207d-bacd-463f-c7c8-a7c64713a18e"
      },
      "source": [
        "history = model.fit([train_rnn_data, train_address_binary_input], train_delta_output, batch_size=BATCH_SIZE, epochs=epoch, callbacks=[checkpoint_callback])"
      ],
      "execution_count": 16,
      "outputs": [
        {
          "output_type": "stream",
          "text": [
            "Epoch 1/20\n",
            "2322/2322 [==============================] - 37s 8ms/step - loss: 3.5703 - accuracy: 0.3878\n",
            "Epoch 2/20\n",
            "2322/2322 [==============================] - 18s 8ms/step - loss: 3.0511 - accuracy: 0.4461\n",
            "Epoch 3/20\n",
            "2322/2322 [==============================] - 18s 8ms/step - loss: 2.8717 - accuracy: 0.4547\n",
            "Epoch 4/20\n",
            "2322/2322 [==============================] - 18s 8ms/step - loss: 2.7034 - accuracy: 0.4637\n",
            "Epoch 5/20\n",
            "2322/2322 [==============================] - 18s 8ms/step - loss: 2.5526 - accuracy: 0.4746\n",
            "Epoch 6/20\n",
            "2322/2322 [==============================] - 18s 8ms/step - loss: 2.3956 - accuracy: 0.4885\n",
            "Epoch 7/20\n",
            "2322/2322 [==============================] - 18s 8ms/step - loss: 2.2709 - accuracy: 0.5014\n",
            "Epoch 8/20\n",
            "2322/2322 [==============================] - 19s 8ms/step - loss: 2.1639 - accuracy: 0.5151\n",
            "Epoch 9/20\n",
            "2322/2322 [==============================] - 18s 8ms/step - loss: 2.0430 - accuracy: 0.5358\n",
            "Epoch 10/20\n",
            "2322/2322 [==============================] - 18s 8ms/step - loss: 1.9276 - accuracy: 0.5549\n",
            "Epoch 11/20\n",
            "2322/2322 [==============================] - 18s 8ms/step - loss: 1.8337 - accuracy: 0.5708\n",
            "Epoch 12/20\n",
            "2322/2322 [==============================] - 19s 8ms/step - loss: 1.7329 - accuracy: 0.5910\n",
            "Epoch 13/20\n",
            "2322/2322 [==============================] - 18s 8ms/step - loss: 1.6386 - accuracy: 0.6111\n",
            "Epoch 14/20\n",
            "2322/2322 [==============================] - 18s 8ms/step - loss: 1.5659 - accuracy: 0.6226\n",
            "Epoch 15/20\n",
            "2322/2322 [==============================] - 18s 8ms/step - loss: 1.4963 - accuracy: 0.6391\n",
            "Epoch 16/20\n",
            "2322/2322 [==============================] - 18s 8ms/step - loss: 1.4304 - accuracy: 0.6524\n",
            "Epoch 17/20\n",
            "2322/2322 [==============================] - 18s 8ms/step - loss: 1.3857 - accuracy: 0.6621\n",
            "Epoch 18/20\n",
            "2322/2322 [==============================] - 18s 8ms/step - loss: 1.3226 - accuracy: 0.6739\n",
            "Epoch 19/20\n",
            "2322/2322 [==============================] - 18s 8ms/step - loss: 1.2869 - accuracy: 0.6825\n",
            "Epoch 20/20\n",
            "2322/2322 [==============================] - 18s 8ms/step - loss: 1.2471 - accuracy: 0.6909\n"
          ],
          "name": "stdout"
        }
      ]
    },
    {
      "cell_type": "code",
      "metadata": {
        "colab": {
          "base_uri": "https://localhost:8080/",
          "height": 295
        },
        "id": "yRQX6iiJCCJr",
        "outputId": "e61561b8-0098-4996-fc98-b3012539ad1a"
      },
      "source": [
        "plt.plot(history.history['loss'])\n",
        "plt.title('Model loss graph')\n",
        "plt.xlabel('Epoch')\n",
        "plt.ylabel('Loss')\n",
        "plt.show()"
      ],
      "execution_count": 17,
      "outputs": [
        {
          "output_type": "display_data",
          "data": {
            "image/png": "[encoded data removed]",
            "text/plain": [
              "<Figure size 432x288 with 1 Axes>"
            ]
          },
          "metadata": {
            "tags": [],
            "needs_background": "light"
          }
        }
      ]
    },
    {
      "cell_type": "code",
      "metadata": {
        "colab": {
          "base_uri": "https://localhost:8080/",
          "height": 314
        },
        "id": "sc4tsrmpnUTS",
        "outputId": "59078683-2b80-400b-e03c-3d377b66b640"
      },
      "source": [
        "plt.plot(history.history['accuracy'])\n",
        "plt.title('train_accuracy')\n",
        "plt.xlabel('Epoch')\n",
        "plt.ylabel('Accuracy')\n",
        "plt.show()\n",
        "\n",
        "print(history.history['accuracy'][-1])"
      ],
      "execution_count": 18,
      "outputs": [
        {
          "output_type": "display_data",
          "data": {
            "image/png": "[encoded data removed]",
            "text/plain": [
              "<Figure size 432x288 with 1 Axes>"
            ]
          },
          "metadata": {
            "tags": [],
            "needs_background": "light"
          }
        },
        {
          "output_type": "stream",
          "text": [
            "0.6813241243362427\n"
          ],
          "name": "stdout"
        }
      ]
    },
    {
      "cell_type": "code",
      "metadata": {
        "id": "FxTh7S5FlgUB"
      },
      "source": [
        "def generate_address(model, start_address):\n",
        "  # Evaluation step (generating address using the learned model)\n",
        "\n",
        "  # Number of characters to generate\n",
        "  num_generate = 2\n",
        "\n",
        "  input_eval = [tf.expand_dims(start_address[0], 0), tf.expand_dims(start_address[1], 0)]\n",
        "\n",
        "  # Empty string to store our results\n",
        "  generated = []\n",
        "\n",
        "  # Low temperatures results in more predictable.\n",
        "  temperature = 1.0\n",
        "\n",
        "  # Here batch size == 1\n",
        "  model.reset_states()\n",
        "  \n",
        "  predictions = model(input_eval)\n",
        "\n",
        "  predictions = predictions / temperature\n",
        "\n",
        "  # using probability\n",
        "  '''\n",
        "  generated = tf.random.categorical(predictions_np, num_samples=num_generate)[-1,0].numpy()  \n",
        "  '''\n",
        "\n",
        "  # using argmax\n",
        "  predictions_np = predictions.numpy()\n",
        "  predictions_np = np.squeeze(predictions_np,axis=0)\n",
        "  predictions_np = np.argsort(predictions_np)\n",
        "  generated = predictions_np [-num_generate:]\n",
        "\n",
        "  return generated"
      ],
      "execution_count": 19,
      "outputs": []
    },
    {
      "cell_type": "markdown",
      "metadata": {
        "id": "gsOAxDdMtXx7"
      },
      "source": [
        "##accuracy 측정"
      ]
    },
    {
      "cell_type": "code",
      "metadata": {
        "id": "bXfqm6EOtaNp",
        "colab": {
          "base_uri": "https://localhost:8080/"
        },
        "outputId": "0cebb93d-c1e8-4dcb-c8d4-e2e7afa097aa"
      },
      "source": [
        "total_num_except_0_1000 = len(test_rnn_data)\n",
        "correct = 0\n",
        "first_correct = 0\n",
        "second_correct = 0\n",
        "\n",
        "for i in tqdm(range(len(test_delta_output)), desc='check accuracy..'):\n",
        "  inp = [test_rnn_data[i].tolist(), test_address_binary_input[i].tolist()]\n",
        "  lstm_ans = generate_address(model, inp)\n",
        "  if test_delta_output[i] in lstm_ans:\n",
        "    correct += 1\n",
        "    if test_delta_output[i] == lstm_ans[0]:\n",
        "      first_correct += 1\n",
        "    if test_delta_output[i] == lstm_ans[1]:\n",
        "      second_correct += 1\n",
        "\n",
        "print(\"\\naccuracy except 0 and 1000\")\n",
        "print(correct/total_num_except_0_1000)\n",
        "print(\"first number accuracy\")\n",
        "print(first_correct/total_num_except_0_1000)\n",
        "print(\"second number accuracy\")\n",
        "print(second_correct/total_num_except_0_1000)"
      ],
      "execution_count": null,
      "outputs": [
        {
          "output_type": "stream",
          "text": [
            "check accuracy..:  83%|████████▎ | 31016/37149 [03:30<00:42, 143.74it/s]"
          ],
          "name": "stderr"
        }
      ]
    },
    {
      "cell_type": "markdown",
      "metadata": {
        "id": "07S2AqbDTAm9"
      },
      "source": [
        "https://jaehyeongan.github.io/2019/03/26/KERAS-FUNCTIONAL-API-MULTI-INPUT-%EB%AA%A8%EB%8D%B8-%EA%B5%AC%EC%B6%95%ED%95%98%EA%B8%B0/"
      ]
    },
    {
      "cell_type": "markdown",
      "metadata": {
        "id": "kAAeSc1HPvsP"
      },
      "source": [
        "https://gooopy.tistory.com/103?category=876252"
      ]
    }
  ]
}