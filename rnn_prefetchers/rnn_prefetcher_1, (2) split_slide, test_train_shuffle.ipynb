{
  "nbformat": 4,
  "nbformat_minor": 0,
  "metadata": {
    "colab": {
      "name": "rnn_prefetcher_1.ipynb",
      "provenance": [],
      "collapsed_sections": []
    },
    "kernelspec": {
      "name": "python3",
      "display_name": "Python 3"
    },
    "language_info": {
      "name": "python"
    },
    "accelerator": "GPU"
  },
  "cells": [
    {
      "cell_type": "markdown",
      "metadata": {
        "id": "04irhJqe1rwJ"
      },
      "source": [
        "##import"
      ]
    },
    {
      "cell_type": "code",
      "metadata": {
        "id": "FOJKr4Ujo7p7"
      },
      "source": [
        "%tensorflow_version 2.x\n",
        "from keras.datasets import imdb\n",
        "from keras.preprocessing import sequence\n",
        "import keras\n",
        "import tensorflow as tf\n",
        "import os\n",
        "import numpy as np\n",
        "import matplotlib.pyplot as plt\n",
        "from tqdm import tqdm"
      ],
      "execution_count": 1,
      "outputs": []
    },
    {
      "cell_type": "code",
      "metadata": {
        "id": "UugPrPR3XmDh"
      },
      "source": [
        "seq_length = 10 # length of sequence for a training example\n",
        "epoch = 15\n",
        "train_model_percentage = 80"
      ],
      "execution_count": 1,
      "outputs": []
    },
    {
      "cell_type": "code",
      "metadata": {
        "id": "78-kpI_on6Z2"
      },
      "source": [
        "f = open(\"473.astar-s0.txt\", 'r')"
      ],
      "execution_count": 3,
      "outputs": []
    },
    {
      "cell_type": "code",
      "metadata": {
        "id": "WDdotnBUo0d8"
      },
      "source": [
        "unique_instr_id = list()\n",
        "cycle_count = list()\n",
        "load_address = list()\n",
        "instr_pointer_load = list()\n",
        "llc_hit_miss = list()\n",
        "\n",
        "f.seek(0, 0)\n",
        "while True:\n",
        "  line = f.readline()\n",
        "  if not line: break\n",
        "  split_line = line.split(', ')\n",
        "  unique_instr_id.append(split_line[0])\n",
        "  cycle_count.append(split_line[1])\n",
        "  load_address.append(split_line[2])\n",
        "  instr_pointer_load.append(split_line[3])\n",
        "  llc_hit_miss.append(split_line[4][:-1])\n",
        "\n",
        "for i in range(len(load_address)):\n",
        "  load_address[i] = int(int(load_address[i], 16)/64)"
      ],
      "execution_count": 4,
      "outputs": []
    },
    {
      "cell_type": "code",
      "metadata": {
        "id": "akRc2OJF2Z5t",
        "colab": {
          "base_uri": "https://localhost:8080/",
          "height": 568
        },
        "outputId": "505201c1-352e-4c3a-aeb9-6ee48b029ca3"
      },
      "source": [
        "delta = list()\n",
        "for i in range(len(load_address)-1):\n",
        "  delta.append(load_address[i+1] - load_address[i])\n",
        "\n",
        "plot_this = list()\n",
        "for i in range(len(load_address)-1):\n",
        "  if delta[i] > 2000:\n",
        "    continue\n",
        "  if delta[i] < -2000:\n",
        "    continue\n",
        "  plot_this.append(delta[i])\n",
        "plt.hist(plot_this, bins=100)\n",
        "plt.show()\n",
        "\n",
        "for i in range(len(delta)):\n",
        "  if delta[i] > 500:\n",
        "    delta[i] = 1000\n",
        "    continue\n",
        "  if delta[i] < -500:\n",
        "    delta[i] = 0\n",
        "    continue\n",
        "  delta[i] += 500\n",
        "\n",
        "print(delta[0:100])\n",
        "print(max(load_address))\n",
        "\n",
        "delta_bundle = list()\n",
        "for i in range(len(delta)-seq_length-1):\n",
        "  delta_bundle.append(delta[i:i+seq_length+1])\n",
        "delta_bundle = np.array(delta_bundle)\n",
        "print(delta_bundle)\n",
        "\n",
        "rnn_data = delta_bundle[:,:-1]\n",
        "rnn_data = np.array(rnn_data)\n",
        "print(rnn_data)"
      ],
      "execution_count": 5,
      "outputs": [
        {
          "output_type": "display_data",
          "data": {
            "image/png": "[encoded data removed]",
            "text/plain": [
              "<Figure size 432x288 with 1 Axes>"
            ]
          },
          "metadata": {
            "tags": [],
            "needs_background": "light"
          }
        },
        {
          "output_type": "stream",
          "text": [
            "[687, 312, 445, 755, 611, 566, 515, 584, 334, 698, 576, 584, 544, 164, 903, 564, 582, 532, 1000, 0, 969, 436, 1000, 591, 564, 0, 1000, 0, 531, 1000, 586, 532, 510, 586, 0, 1000, 618, 564, 513, 532, 583, 516, 564, 564, 564, 597, 532, 532, 0, 1000, 751, 564, 602, 532, 532, 526, 564, 563, 0, 1000, 564, 602, 532, 532, 404, 622, 564, 0, 1000, 564, 597, 531, 437, 370, 768, 564, 589, 532, 571, 461, 603, 301, 763, 589, 0, 1000, 0, 1000, 1000, 0, 532, 347, 685, 1000, 0, 781, 0, 1000, 563, 501]\n",
            "4363500794111\n",
            "[[ 687  312  445 ...  334  698  576]\n",
            " [ 312  445  755 ...  698  576  584]\n",
            " [ 445  755  611 ...  576  584  544]\n",
            " ...\n",
            " [1000    0  413 ...  554  501 1000]\n",
            " [   0  413 1000 ...  501 1000  499]\n",
            " [ 413 1000  798 ... 1000  499    0]]\n",
            "[[ 687  312  445 ...  584  334  698]\n",
            " [ 312  445  755 ...  334  698  576]\n",
            " [ 445  755  611 ...  698  576  584]\n",
            " ...\n",
            " [1000    0  413 ...    0  554  501]\n",
            " [   0  413 1000 ...  554  501 1000]\n",
            " [ 413 1000  798 ...  501 1000  499]]\n"
          ],
          "name": "stdout"
        }
      ]
    },
    {
      "cell_type": "code",
      "metadata": {
        "colab": {
          "base_uri": "https://localhost:8080/"
        },
        "id": "R-3RN6hbK-CE",
        "outputId": "074b98df-9fb1-4ebe-ad91-911b2d6e09a0"
      },
      "source": [
        "delta_output = delta_bundle[:,-1:]\n",
        "delta_output = delta_output.flatten()\n",
        "print(delta_output)"
      ],
      "execution_count": 6,
      "outputs": [
        {
          "output_type": "stream",
          "text": [
            "[ 576  584  544 ... 1000  499    0]\n"
          ],
          "name": "stdout"
        }
      ]
    },
    {
      "cell_type": "code",
      "metadata": {
        "colab": {
          "base_uri": "https://localhost:8080/"
        },
        "id": "-AX2J-P_LAoc",
        "outputId": "60d3b3e0-3946-40c9-a098-d28af4546475"
      },
      "source": [
        "delete_list = list()\n",
        "for i in range(len(delta_output)):\n",
        "  if delta_output[i] == 0 or delta_output[i] == 1000:\n",
        "    delete_list.append(i)\n",
        "\n",
        "delta_output = np.delete(delta_output, delete_list)\n",
        "rnn_data = np.delete(rnn_data, delete_list, 0)\n",
        "\n",
        "print(delta_output)"
      ],
      "execution_count": 7,
      "outputs": [
        {
          "output_type": "stream",
          "text": [
            "[576 584 544 ... 554 501 499]\n"
          ],
          "name": "stdout"
        }
      ]
    },
    {
      "cell_type": "code",
      "metadata": {
        "id": "Knz_ePHJLDo7"
      },
      "source": [
        "cut_index = len(rnn_data) * train_model_percentage // 100\n",
        "\n",
        "train_rnn_data = rnn_data[:cut_index,:]\n",
        "test_rnn_data = rnn_data[cut_index:]\n",
        "\n",
        "train_delta_output = delta_output[:cut_index]\n",
        "test_delta_output = delta_output[cut_index:]"
      ],
      "execution_count": 8,
      "outputs": []
    },
    {
      "cell_type": "markdown",
      "metadata": {
        "id": "hFdzQVmCde-t"
      },
      "source": [
        "##make model"
      ]
    },
    {
      "cell_type": "code",
      "metadata": {
        "id": "-kkInVOSM0fa"
      },
      "source": [
        "BATCH_SIZE = 64\n",
        "ADDRESS_PREDICT_SIZE = 1001\n",
        "EMBEDDING_DIM = 64\n",
        "RNN_UNITS = 1024\n",
        "BUFFER_SIZE = 10000"
      ],
      "execution_count": 9,
      "outputs": []
    },
    {
      "cell_type": "code",
      "metadata": {
        "id": "HotnQ_oAwfVD",
        "colab": {
          "base_uri": "https://localhost:8080/"
        },
        "outputId": "53fb2b44-8061-4508-b544-f1165594bfcd"
      },
      "source": [
        "from keras.layers import Input, Dense, Embedding, LSTM\n",
        "from keras.models import Model\n",
        "\n",
        "def build_model(address_predict_size, embedding_dim, rnn_units):\n",
        "  input_x = Input(shape=(seq_length,))\n",
        "  x = Embedding(address_predict_size, embedding_dim)(input_x)\n",
        "  x = LSTM(rnn_units, recurrent_initializer='glorot_uniform') (x)\n",
        "  x = Dense(address_predict_size, activation=\"sigmoid\") (x)\n",
        "  model = Model(inputs=input_x, outputs=x)\n",
        "  return model\n",
        "\n",
        "model = build_model(ADDRESS_PREDICT_SIZE,EMBEDDING_DIM, RNN_UNITS)\n",
        "model.summary()"
      ],
      "execution_count": 10,
      "outputs": [
        {
          "output_type": "stream",
          "text": [
            "Model: \"model\"\n",
            "_________________________________________________________________\n",
            "Layer (type)                 Output Shape              Param #   \n",
            "=================================================================\n",
            "input_1 (InputLayer)         [(None, 10)]              0         \n",
            "_________________________________________________________________\n",
            "embedding (Embedding)        (None, 10, 64)            64064     \n",
            "_________________________________________________________________\n",
            "lstm (LSTM)                  (None, 1024)              4460544   \n",
            "_________________________________________________________________\n",
            "dense (Dense)                (None, 1001)              1026025   \n",
            "=================================================================\n",
            "Total params: 5,550,633\n",
            "Trainable params: 5,550,633\n",
            "Non-trainable params: 0\n",
            "_________________________________________________________________\n"
          ],
          "name": "stdout"
        }
      ]
    },
    {
      "cell_type": "markdown",
      "metadata": {
        "id": "TXvndeNwhJDA"
      },
      "source": [
        "##Create loss function"
      ]
    },
    {
      "cell_type": "code",
      "metadata": {
        "id": "w3bzGULngZX0"
      },
      "source": [
        "def loss(labels, logits):\n",
        "  return tf.keras.losses.sparse_categorical_crossentropy(labels, logits, from_logits=True)"
      ],
      "execution_count": 11,
      "outputs": []
    },
    {
      "cell_type": "code",
      "metadata": {
        "id": "-geO637oiumN"
      },
      "source": [
        "model.compile(optimizer='adam', loss=loss, metrics=['accuracy'])"
      ],
      "execution_count": 12,
      "outputs": []
    },
    {
      "cell_type": "code",
      "metadata": {
        "id": "h1aKCk7li3i5"
      },
      "source": [
        "# Directory where the checkpoints will be saved\n",
        "checkpoint_dir = './training_checkpoints'\n",
        "# Name of the checkpoint files\n",
        "checkpoint_prefix = os.path.join(checkpoint_dir, \"ckpt_{epoch}\")\n",
        "\n",
        "checkpoint_callback=tf.keras.callbacks.ModelCheckpoint(\n",
        "    filepath=checkpoint_prefix,\n",
        "    save_weights_only=True)"
      ],
      "execution_count": 13,
      "outputs": []
    },
    {
      "cell_type": "code",
      "metadata": {
        "colab": {
          "base_uri": "https://localhost:8080/"
        },
        "id": "OZ7HZgd8jC_I",
        "outputId": "967fe54d-e3b2-470d-d941-1cbf2ff205f1"
      },
      "source": [
        "history = model.fit(train_rnn_data, train_delta_output, epochs=epoch, batch_size = BATCH_SIZE, callbacks=[checkpoint_callback])"
      ],
      "execution_count": 14,
      "outputs": [
        {
          "output_type": "stream",
          "text": [
            "Epoch 1/20\n"
          ],
          "name": "stdout"
        },
        {
          "output_type": "stream",
          "text": [
            "/usr/local/lib/python3.7/dist-packages/tensorflow/python/keras/backend.py:4930: UserWarning: \"`sparse_categorical_crossentropy` received `from_logits=True`, but the `output` argument was produced by a sigmoid or softmax activation and thus does not represent logits. Was this intended?\"\n",
            "  '\"`sparse_categorical_crossentropy` received `from_logits=True`, but '\n"
          ],
          "name": "stderr"
        },
        {
          "output_type": "stream",
          "text": [
            "2322/2322 [==============================] - 39s 10ms/step - loss: 3.7323 - accuracy: 0.3738\n",
            "Epoch 2/20\n",
            "2322/2322 [==============================] - 23s 10ms/step - loss: 3.2745 - accuracy: 0.4333\n",
            "Epoch 3/20\n",
            "2322/2322 [==============================] - 23s 10ms/step - loss: 3.1385 - accuracy: 0.4435\n",
            "Epoch 4/20\n",
            "2322/2322 [==============================] - 23s 10ms/step - loss: 2.9331 - accuracy: 0.4615\n",
            "Epoch 5/20\n",
            "2322/2322 [==============================] - 23s 10ms/step - loss: 2.7241 - accuracy: 0.4841\n",
            "Epoch 6/20\n",
            "2322/2322 [==============================] - 23s 10ms/step - loss: 2.4540 - accuracy: 0.5196\n",
            "Epoch 7/20\n",
            "2322/2322 [==============================] - 23s 10ms/step - loss: 2.1601 - accuracy: 0.5649\n",
            "Epoch 8/20\n",
            "2322/2322 [==============================] - 23s 10ms/step - loss: 1.8325 - accuracy: 0.6200\n",
            "Epoch 9/20\n",
            "2322/2322 [==============================] - 23s 10ms/step - loss: 1.5322 - accuracy: 0.6777\n",
            "Epoch 10/20\n",
            "2322/2322 [==============================] - 23s 10ms/step - loss: 1.2641 - accuracy: 0.7324\n",
            "Epoch 11/20\n",
            "2322/2322 [==============================] - 23s 10ms/step - loss: 1.0574 - accuracy: 0.7748\n",
            "Epoch 12/20\n",
            "2322/2322 [==============================] - 23s 10ms/step - loss: 0.9011 - accuracy: 0.8057\n",
            "Epoch 13/20\n",
            "2322/2322 [==============================] - 23s 10ms/step - loss: 0.7892 - accuracy: 0.8278\n",
            "Epoch 14/20\n",
            "2322/2322 [==============================] - 23s 10ms/step - loss: 0.7039 - accuracy: 0.8421\n",
            "Epoch 15/20\n",
            "2322/2322 [==============================] - 23s 10ms/step - loss: 0.6408 - accuracy: 0.8536\n",
            "Epoch 16/20\n",
            "2322/2322 [==============================] - 23s 10ms/step - loss: 0.6052 - accuracy: 0.8591\n",
            "Epoch 17/20\n",
            "2322/2322 [==============================] - 23s 10ms/step - loss: 0.5762 - accuracy: 0.8616\n",
            "Epoch 18/20\n",
            "2322/2322 [==============================] - 23s 10ms/step - loss: 0.5508 - accuracy: 0.8664\n",
            "Epoch 19/20\n",
            "2322/2322 [==============================] - 23s 10ms/step - loss: 0.5334 - accuracy: 0.8669\n",
            "Epoch 20/20\n",
            "2322/2322 [==============================] - 23s 10ms/step - loss: 0.5206 - accuracy: 0.8680\n"
          ],
          "name": "stdout"
        }
      ]
    },
    {
      "cell_type": "code",
      "metadata": {
        "id": "FxTh7S5FlgUB"
      },
      "source": [
        "def generate_address(model, start_address):\n",
        "  # Evaluation step (generating address using the learned model)\n",
        "\n",
        "  # Number of characters to generate\n",
        "  num_generate = 2\n",
        "  input_eval = tf.expand_dims(start_address, 0)\n",
        "\n",
        "  # Empty string to store our results\n",
        "  generated = []\n",
        "\n",
        "  # Here batch size == 1\n",
        "  model.reset_states()\n",
        "  predictions = model(input_eval)\n",
        "\n",
        "  # using argmax\n",
        "  predictions_np = predictions.numpy()\n",
        "  predictions_np = np.squeeze(predictions_np,axis=0)\n",
        "  predictions_np = np.argsort(predictions_np)\n",
        "  generated = predictions_np [-num_generate:]\n",
        "\n",
        "  return generated"
      ],
      "execution_count": 15,
      "outputs": []
    },
    {
      "cell_type": "markdown",
      "metadata": {
        "id": "gsOAxDdMtXx7"
      },
      "source": [
        "##accuracy 측정"
      ]
    },
    {
      "cell_type": "code",
      "metadata": {
        "id": "bXfqm6EOtaNp",
        "colab": {
          "base_uri": "https://localhost:8080/"
        },
        "outputId": "fc9246e5-021b-4291-ba24-cccfdfc55e62"
      },
      "source": [
        "total_num_except_0_1000 = 0\n",
        "correct = 0\n",
        "first_correct = 0\n",
        "second_correct = 0\n",
        "\n",
        "for i in tqdm(range(len(test_delta_output)), desc='check accuracy..'):\n",
        "  total_num_except_0_1000 += 1\n",
        "  inp = test_rnn_data[i]\n",
        "  lstm_ans = generate_address(model, inp)\n",
        "  if test_delta_output[i] in lstm_ans:\n",
        "    correct += 1\n",
        "    if test_delta_output[i] == lstm_ans[0]:\n",
        "      first_correct += 1\n",
        "    if test_delta_output[i] == lstm_ans[1]:\n",
        "      second_correct += 1\n",
        "\n",
        "print(\"\\naccuracy except 0 and 1000\")\n",
        "print(correct/total_num_except_0_1000)\n",
        "print(\"first number accuracy\")\n",
        "print(first_correct/total_num_except_0_1000)\n",
        "print(\"second number accuracy\")\n",
        "print(second_correct/total_num_except_0_1000)"
      ],
      "execution_count": 16,
      "outputs": [
        {
          "output_type": "stream",
          "text": [
            "check accuracy..: 100%|██████████| 37148/37148 [02:54<00:00, 213.31it/s]"
          ],
          "name": "stderr"
        },
        {
          "output_type": "stream",
          "text": [
            "\n",
            "accuracy except 0 and 1000\n",
            "0.450199203187251\n",
            "first number accuracy\n",
            "0.07042101862818995\n",
            "second number accuracy\n",
            "0.37977818455906104\n"
          ],
          "name": "stdout"
        },
        {
          "output_type": "stream",
          "text": [
            "\n"
          ],
          "name": "stderr"
        }
      ]
    },
    {
      "cell_type": "markdown",
      "metadata": {
        "id": "FwuJm9QFX_Jg"
      },
      "source": [
        "#seq_length = 10\n",
        "####epoch =\n",
        "####train_accuracy \n",
        "####test_accuracy \n",
        "####first number accuracy \n",
        "####second number accuracy \n",
        "####epoch = 20\n",
        "####train_accuracy 86.80%\n",
        "####test_accuracy 45.02%\n",
        "####first number accuracy 7.04%\n",
        "####second number accuracy 37.98%\n",
        "####epoch = 30\n",
        "####train_accuracy 87.38%\n",
        "####test_accuracy 44.61%\n",
        "####first number accuracy 6.89%\n",
        "####second number accuracy 37.72%"
      ]
    },
    {
      "cell_type": "markdown",
      "metadata": {
        "id": "07S2AqbDTAm9"
      },
      "source": [
        "https://jaehyeongan.github.io/2019/03/26/KERAS-FUNCTIONAL-API-MULTI-INPUT-%EB%AA%A8%EB%8D%B8-%EA%B5%AC%EC%B6%95%ED%95%98%EA%B8%B0/"
      ]
    },
    {
      "cell_type": "markdown",
      "metadata": {
        "id": "kAAeSc1HPvsP"
      },
      "source": [
        "https://gooopy.tistory.com/103?category=876252"
      ]
    }
  ]
}