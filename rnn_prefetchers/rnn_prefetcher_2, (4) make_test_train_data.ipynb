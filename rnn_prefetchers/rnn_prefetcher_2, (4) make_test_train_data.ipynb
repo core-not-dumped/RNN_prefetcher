{
  "nbformat": 4,
  "nbformat_minor": 0,
  "metadata": {
    "accelerator": "GPU",
    "colab": {
      "name": "rnn_prefetcher_tmp.ipynb",
      "provenance": [],
      "collapsed_sections": []
    },
    "kernelspec": {
      "display_name": "Python 3",
      "name": "python3"
    },
    "language_info": {
      "name": "python"
    }
  },
  "cells": [
    {
      "cell_type": "markdown",
      "metadata": {
        "id": "04irhJqe1rwJ"
      },
      "source": [
        "##import"
      ]
    },
    {
      "cell_type": "code",
      "metadata": {
        "id": "FOJKr4Ujo7p7"
      },
      "source": [
        "%tensorflow_version 2.x\n",
        "from keras.datasets import imdb\n",
        "from keras.preprocessing import sequence\n",
        "import keras\n",
        "import tensorflow as tf\n",
        "import os\n",
        "import numpy as np\n",
        "import matplotlib.pyplot as plt\n",
        "from tqdm import tqdm"
      ],
      "execution_count": 1,
      "outputs": []
    },
    {
      "cell_type": "code",
      "metadata": {
        "id": "9b1Gq8G_8Oy9"
      },
      "source": [
        "ADDRESS_PREDICT_SIZE = 1001\n",
        "EMBEDDING_DIM = 64\n",
        "RNN_UNITS = 1024\n",
        "FIRST_OUTPUT_SIZE = 1001\n",
        "BUFFER_SIZE = 10000\n",
        "BATCH_SIZE = 64"
      ],
      "execution_count": 2,
      "outputs": []
    },
    {
      "cell_type": "markdown",
      "metadata": {
        "id": "JxOb-1s2dYX5"
      },
      "source": [
        "##change hyperparameter to make best model"
      ]
    },
    {
      "cell_type": "code",
      "metadata": {
        "id": "UugPrPR3XmDh"
      },
      "source": [
        "seq_length = 5 # length of sequence for a training example\n",
        "epoch = 30\n",
        "MAXLEN = 43\n",
        "DENSE_HIDDEN_SIZE = 20\n",
        "train_model_percentage = 80"
      ],
      "execution_count": 3,
      "outputs": []
    },
    {
      "cell_type": "markdown",
      "metadata": {
        "id": "vVvJs6ImdePz"
      },
      "source": [
        "##open text file"
      ]
    },
    {
      "cell_type": "code",
      "metadata": {
        "id": "78-kpI_on6Z2"
      },
      "source": [
        "f = open(\"473.astar-s0.txt\", 'r')"
      ],
      "execution_count": 4,
      "outputs": []
    },
    {
      "cell_type": "markdown",
      "metadata": {
        "id": "GxRMDMOuc3cK"
      },
      "source": [
        "##text file split"
      ]
    },
    {
      "cell_type": "code",
      "metadata": {
        "id": "WDdotnBUo0d8"
      },
      "source": [
        "unique_instr_id = list()\n",
        "cycle_count = list()\n",
        "load_address = list()\n",
        "instr_pointer_load = list()\n",
        "llc_hit_miss = list()\n",
        "\n",
        "f.seek(0, 0)\n",
        "while True:\n",
        "  line = f.readline()\n",
        "  if not line: break\n",
        "  split_line = line.split(', ')\n",
        "  unique_instr_id.append(split_line[0])\n",
        "  cycle_count.append(split_line[1])\n",
        "  load_address.append(split_line[2])\n",
        "  instr_pointer_load.append(split_line[3])\n",
        "  llc_hit_miss.append(split_line[4][:-1])\n",
        "\n",
        "for i in range(len(load_address)):\n",
        "  load_address[i] = int(load_address[i], 16)//64"
      ],
      "execution_count": 5,
      "outputs": []
    },
    {
      "cell_type": "markdown",
      "metadata": {
        "id": "WIowzQBfdASI"
      },
      "source": [
        "##make delta list(first input)"
      ]
    },
    {
      "cell_type": "code",
      "metadata": {
        "colab": {
          "base_uri": "https://localhost:8080/",
          "height": 568
        },
        "id": "akRc2OJF2Z5t",
        "outputId": "7ed29794-f2a3-4da9-b5df-cad86712afae"
      },
      "source": [
        "delta = list()\n",
        "for i in range(len(load_address)-1):\n",
        "  delta.append(load_address[i+1] - load_address[i])\n",
        "\n",
        "plot_this = list()\n",
        "for i in range(len(load_address)-1):\n",
        "  if delta[i] > 2000:\n",
        "    continue\n",
        "  if delta[i] < -2000:\n",
        "    continue\n",
        "  plot_this.append(delta[i])\n",
        "plt.hist(plot_this, bins=100)\n",
        "plt.show()\n",
        "\n",
        "for i in range(len(delta)):\n",
        "  if delta[i] > 500:\n",
        "    delta[i] = 1000\n",
        "    continue\n",
        "  if delta[i] < -500:\n",
        "    delta[i] = 0\n",
        "    continue\n",
        "  delta[i] += 500\n",
        "\n",
        "print(delta[0:100])\n",
        "print(max(load_address))\n",
        "\n",
        "delta_bundle = list()\n",
        "for i in range(len(delta)-seq_length-1):\n",
        "  delta_bundle.append(delta[i:i+seq_length+1])\n",
        "delta_bundle = np.array(delta_bundle)\n",
        "print(delta_bundle)\n",
        "\n",
        "rnn_data = delta_bundle[:,:-1]\n",
        "rnn_data = np.array(rnn_data)\n",
        "print(rnn_data)"
      ],
      "execution_count": 6,
      "outputs": [
        {
          "output_type": "display_data",
          "data": {
            "image/png": "[encoded data removed]",
            "text/plain": [
              "<Figure size 432x288 with 1 Axes>"
            ]
          },
          "metadata": {
            "tags": [],
            "needs_background": "light"
          }
        },
        {
          "output_type": "stream",
          "text": [
            "[687, 312, 445, 755, 611, 566, 515, 584, 334, 698, 576, 584, 544, 164, 903, 564, 582, 532, 1000, 0, 969, 436, 1000, 591, 564, 0, 1000, 0, 531, 1000, 586, 532, 510, 586, 0, 1000, 618, 564, 513, 532, 583, 516, 564, 564, 564, 597, 532, 532, 0, 1000, 751, 564, 602, 532, 532, 526, 564, 563, 0, 1000, 564, 602, 532, 532, 404, 622, 564, 0, 1000, 564, 597, 531, 437, 370, 768, 564, 589, 532, 571, 461, 603, 301, 763, 589, 0, 1000, 0, 1000, 1000, 0, 532, 347, 685, 1000, 0, 781, 0, 1000, 563, 501]\n",
            "4363500794111\n",
            "[[ 687  312  445  755  611  566]\n",
            " [ 312  445  755  611  566  515]\n",
            " [ 445  755  611  566  515  584]\n",
            " ...\n",
            " [1000  499    0  554  501 1000]\n",
            " [ 499    0  554  501 1000  499]\n",
            " [   0  554  501 1000  499    0]]\n",
            "[[ 687  312  445  755  611]\n",
            " [ 312  445  755  611  566]\n",
            " [ 445  755  611  566  515]\n",
            " ...\n",
            " [1000  499    0  554  501]\n",
            " [ 499    0  554  501 1000]\n",
            " [   0  554  501 1000  499]]\n"
          ],
          "name": "stdout"
        }
      ]
    },
    {
      "cell_type": "markdown",
      "metadata": {
        "id": "u0WZhSCddG6_"
      },
      "source": [
        "##make address binary input(second input)"
      ]
    },
    {
      "cell_type": "code",
      "metadata": {
        "colab": {
          "base_uri": "https://localhost:8080/"
        },
        "id": "ghPnKrm_T9uK",
        "outputId": "e1bcf16f-d9b6-440d-d1dc-ccebcd095d7d"
      },
      "source": [
        "# 8 -> [0,0,0,1] change int to categorical value\n",
        "def address_to_binary(a):\n",
        "  binary_int = list()\n",
        "  for i in range(MAXLEN):\n",
        "    # /1000 -> scaling\n",
        "    binary_int.append(a%2)\n",
        "    a = a//2\n",
        "  return binary_int\n",
        "\n",
        "print(address_to_binary(8))\n",
        "\n",
        "address_binary_input = list()\n",
        "for i in range(seq_length+1, len(load_address)-1):\n",
        "  address_binary_input.append(address_to_binary(load_address[i]))\n",
        "\n",
        "print(address_binary_input[0])\n",
        "address_binary_input = np.array(address_binary_input)"
      ],
      "execution_count": 7,
      "outputs": [
        {
          "output_type": "stream",
          "text": [
            "[0, 0, 0, 1, 0, 0, 0, 0, 0, 0, 0, 0, 0, 0, 0, 0, 0, 0, 0, 0, 0, 0, 0, 0, 0, 0, 0, 0, 0, 0, 0, 0, 0, 0, 0, 0, 0, 0, 0, 0, 0, 0, 0]\n",
            "[1, 0, 0, 1, 1, 1, 0, 0, 1, 1, 0, 0, 0, 1, 0, 0, 1, 1, 1, 1, 1, 0, 1, 1, 0, 0, 0, 0, 0, 1, 0, 1, 1, 1, 0, 0, 0, 1, 0, 1, 0, 0, 0]\n"
          ],
          "name": "stdout"
        }
      ]
    },
    {
      "cell_type": "markdown",
      "metadata": {
        "id": "p4fX15EXvEU1"
      },
      "source": [
        "##make output data"
      ]
    },
    {
      "cell_type": "code",
      "metadata": {
        "id": "oSSSGeN5vGOk",
        "colab": {
          "base_uri": "https://localhost:8080/"
        },
        "outputId": "12eea5b6-24ea-416f-ac8a-7b4109da19df"
      },
      "source": [
        "delta_output = delta_bundle[:,-1:]\n",
        "delta_output = delta_output.flatten()\n",
        "print(delta_output)"
      ],
      "execution_count": 8,
      "outputs": [
        {
          "output_type": "stream",
          "text": [
            "[ 566  515  584 ... 1000  499    0]\n"
          ],
          "name": "stdout"
        }
      ]
    },
    {
      "cell_type": "markdown",
      "metadata": {
        "id": "GPqZWJQ3wqnN"
      },
      "source": [
        "##kick dummy input and output"
      ]
    },
    {
      "cell_type": "code",
      "metadata": {
        "id": "99SRVdsFwpdQ",
        "colab": {
          "base_uri": "https://localhost:8080/"
        },
        "outputId": "32288792-ae1a-4b4d-ab88-702eb5ff8fe9"
      },
      "source": [
        "delete_list = list()\n",
        "for i in range(len(delta_output)):\n",
        "  if delta_output[i] == 0 or delta_output[i] == 1000:\n",
        "    delete_list.append(i)\n",
        "\n",
        "delta_output = np.delete(delta_output, delete_list)\n",
        "rnn_data = np.delete(rnn_data, delete_list, 0)\n",
        "address_binary_input = np.delete(address_binary_input, delete_list, 0)\n",
        "\n",
        "print(delta_output)"
      ],
      "execution_count": 9,
      "outputs": [
        {
          "output_type": "stream",
          "text": [
            "[566 515 584 ... 554 501 499]\n"
          ],
          "name": "stdout"
        }
      ]
    },
    {
      "cell_type": "markdown",
      "metadata": {
        "id": "_FDGCR4fVzWI"
      },
      "source": [
        "##make train and test data"
      ]
    },
    {
      "cell_type": "code",
      "metadata": {
        "id": "h8OKMmFaVyMC"
      },
      "source": [
        "cut_index = len(rnn_data) * train_model_percentage // 100\n",
        "\n",
        "train_rnn_data = rnn_data[:cut_index,:]\n",
        "test_rnn_data = rnn_data[cut_index:]\n",
        "\n",
        "train_address_binary_input = address_binary_input[:cut_index,:]\n",
        "test_address_binary_input = address_binary_input[cut_index:,:]\n",
        "\n",
        "train_delta_output = delta_output[:cut_index]\n",
        "test_delta_output = delta_output[cut_index:]"
      ],
      "execution_count": 11,
      "outputs": []
    },
    {
      "cell_type": "markdown",
      "metadata": {
        "id": "hFdzQVmCde-t"
      },
      "source": [
        "##make model"
      ]
    },
    {
      "cell_type": "code",
      "metadata": {
        "colab": {
          "base_uri": "https://localhost:8080/"
        },
        "id": "HotnQ_oAwfVD",
        "outputId": "15f08465-a569-4781-f8e6-4068d09aeec5"
      },
      "source": [
        "from keras.layers import Input, Dense, Embedding, LSTM\n",
        "from keras.models import Model\n",
        "\n",
        "def build_model(address_predict_size, first_output_size, embedding_dim, rnn_units, Batch_size):\n",
        "  \n",
        "  input_x = Input(shape=(seq_length,))\n",
        "  x = Embedding(address_predict_size, embedding_dim)(input_x)\n",
        "  x = LSTM(rnn_units, recurrent_initializer='glorot_uniform') (x)\n",
        "  x = Dense(first_output_size, activation=\"sigmoid\") (x)\n",
        "  x = Model(inputs=input_x, outputs=x)\n",
        "\n",
        "  input_y = Input(shape=(MAXLEN,))\n",
        "  y = Dense(16, activation=\"relu\")(input_y)\n",
        "  y = Model(inputs=input_y, outputs=y)\n",
        "\n",
        "  combined = tf.keras.layers.concatenate([x.output, y.output])\n",
        "\n",
        "  z = Dense(128, activation=\"relu\")(combined)\n",
        "  z = Dense(address_predict_size, activation=\"sigmoid\")(z)\n",
        "\n",
        "  model = Model(inputs=[x.input, y.input], outputs=z)\n",
        "\n",
        "  return model\n",
        "\n",
        "model = build_model(ADDRESS_PREDICT_SIZE, FIRST_OUTPUT_SIZE, EMBEDDING_DIM, RNN_UNITS, BATCH_SIZE)\n",
        "model.summary()"
      ],
      "execution_count": 12,
      "outputs": [
        {
          "output_type": "stream",
          "text": [
            "Model: \"model_2\"\n",
            "__________________________________________________________________________________________________\n",
            "Layer (type)                    Output Shape         Param #     Connected to                     \n",
            "==================================================================================================\n",
            "input_1 (InputLayer)            [(None, 5)]          0                                            \n",
            "__________________________________________________________________________________________________\n",
            "embedding (Embedding)           (None, 5, 64)        64064       input_1[0][0]                    \n",
            "__________________________________________________________________________________________________\n",
            "lstm (LSTM)                     (None, 1024)         4460544     embedding[0][0]                  \n",
            "__________________________________________________________________________________________________\n",
            "input_2 (InputLayer)            [(None, 43)]         0                                            \n",
            "__________________________________________________________________________________________________\n",
            "dense (Dense)                   (None, 1001)         1026025     lstm[0][0]                       \n",
            "__________________________________________________________________________________________________\n",
            "dense_1 (Dense)                 (None, 16)           704         input_2[0][0]                    \n",
            "__________________________________________________________________________________________________\n",
            "tf.concat (TFOpLambda)          (None, 1017)         0           dense[0][0]                      \n",
            "                                                                 dense_1[0][0]                    \n",
            "__________________________________________________________________________________________________\n",
            "dense_2 (Dense)                 (None, 128)          130304      tf.concat[0][0]                  \n",
            "__________________________________________________________________________________________________\n",
            "dense_3 (Dense)                 (None, 1001)         129129      dense_2[0][0]                    \n",
            "==================================================================================================\n",
            "Total params: 5,810,770\n",
            "Trainable params: 5,810,770\n",
            "Non-trainable params: 0\n",
            "__________________________________________________________________________________________________\n"
          ],
          "name": "stdout"
        }
      ]
    },
    {
      "cell_type": "code",
      "metadata": {
        "colab": {
          "base_uri": "https://localhost:8080/",
          "height": 735
        },
        "id": "Xml_MRUjtcCf",
        "outputId": "8755efff-0a53-44f2-f687-7f18770cac57"
      },
      "source": [
        "from tensorflow.keras.utils import plot_model\n",
        "plot_model(model, to_file='model.png')\n",
        "plot_model(model, to_file='model_shapes.png', show_shapes=True)"
      ],
      "execution_count": 13,
      "outputs": [
        {
          "output_type": "execute_result",
          "data": {
            "image/png": "[encoded data removed]",
            "text/plain": [
              "<IPython.core.display.Image object>"
            ]
          },
          "metadata": {
            "tags": []
          },
          "execution_count": 13
        }
      ]
    },
    {
      "cell_type": "markdown",
      "metadata": {
        "id": "Pw-J1O6fNlol"
      },
      "source": [
        "##create loss function"
      ]
    },
    {
      "cell_type": "code",
      "metadata": {
        "id": "w3bzGULngZX0"
      },
      "source": [
        "def loss(labels, logits):\n",
        "  return tf.keras.losses.sparse_categorical_crossentropy(labels, logits, from_logits=True)"
      ],
      "execution_count": 14,
      "outputs": []
    },
    {
      "cell_type": "code",
      "metadata": {
        "id": "-geO637oiumN"
      },
      "source": [
        "model.compile(optimizer='adam', loss=loss)"
      ],
      "execution_count": 15,
      "outputs": []
    },
    {
      "cell_type": "code",
      "metadata": {
        "id": "h1aKCk7li3i5"
      },
      "source": [
        "# Directory where the checkpoints will be saved\n",
        "checkpoint_dir = './training_checkpoints'\n",
        "# Name of the checkpoint files\n",
        "checkpoint_prefix = os.path.join(checkpoint_dir, \"ckpt_{epoch}\")\n",
        "\n",
        "checkpoint_callback=tf.keras.callbacks.ModelCheckpoint(\n",
        "    filepath=checkpoint_prefix,\n",
        "    save_weights_only=True)"
      ],
      "execution_count": 16,
      "outputs": []
    },
    {
      "cell_type": "code",
      "metadata": {
        "colab": {
          "base_uri": "https://localhost:8080/"
        },
        "id": "OZ7HZgd8jC_I",
        "outputId": "a77bb5a8-059c-40da-fc1e-3fffb725f05a"
      },
      "source": [
        "history = model.fit([train_rnn_data, train_address_binary_input], train_delta_output, batch_size=BATCH_SIZE, epochs=epoch, callbacks=[checkpoint_callback])"
      ],
      "execution_count": 17,
      "outputs": [
        {
          "output_type": "stream",
          "text": [
            "Epoch 1/30\n"
          ],
          "name": "stdout"
        },
        {
          "output_type": "stream",
          "text": [
            "/usr/local/lib/python3.7/dist-packages/tensorflow/python/keras/backend.py:4930: UserWarning: \"`sparse_categorical_crossentropy` received `from_logits=True`, but the `output` argument was produced by a sigmoid or softmax activation and thus does not represent logits. Was this intended?\"\n",
            "  '\"`sparse_categorical_crossentropy` received `from_logits=True`, but '\n"
          ],
          "name": "stderr"
        },
        {
          "output_type": "stream",
          "text": [
            "2322/2322 [==============================] - 33s 7ms/step - loss: 3.5245\n",
            "Epoch 2/30\n",
            "2322/2322 [==============================] - 17s 7ms/step - loss: 3.0958\n",
            "Epoch 3/30\n",
            "2322/2322 [==============================] - 17s 7ms/step - loss: 2.9552\n",
            "Epoch 4/30\n",
            "2322/2322 [==============================] - 17s 7ms/step - loss: 2.8081\n",
            "Epoch 5/30\n",
            "2322/2322 [==============================] - 17s 7ms/step - loss: 2.6588\n",
            "Epoch 6/30\n",
            "2322/2322 [==============================] - 17s 7ms/step - loss: 2.5164\n",
            "Epoch 7/30\n",
            "2322/2322 [==============================] - 17s 7ms/step - loss: 2.3992\n",
            "Epoch 8/30\n",
            "2322/2322 [==============================] - 17s 7ms/step - loss: 2.2647\n",
            "Epoch 9/30\n",
            "2322/2322 [==============================] - 17s 7ms/step - loss: 2.1528\n",
            "Epoch 10/30\n",
            "2322/2322 [==============================] - 17s 7ms/step - loss: 2.0185\n",
            "Epoch 11/30\n",
            "2322/2322 [==============================] - 17s 7ms/step - loss: 1.9061\n",
            "Epoch 12/30\n",
            "2322/2322 [==============================] - 17s 7ms/step - loss: 1.8037\n",
            "Epoch 13/30\n",
            "2322/2322 [==============================] - 17s 7ms/step - loss: 1.7141\n",
            "Epoch 14/30\n",
            "2322/2322 [==============================] - 17s 7ms/step - loss: 1.6234\n",
            "Epoch 15/30\n",
            "2322/2322 [==============================] - 17s 7ms/step - loss: 1.5595\n",
            "Epoch 16/30\n",
            "2322/2322 [==============================] - 17s 7ms/step - loss: 1.4936\n",
            "Epoch 17/30\n",
            "2322/2322 [==============================] - 17s 7ms/step - loss: 1.4384\n",
            "Epoch 18/30\n",
            "2322/2322 [==============================] - 17s 7ms/step - loss: 1.3900\n",
            "Epoch 19/30\n",
            "2322/2322 [==============================] - 17s 7ms/step - loss: 1.3467\n",
            "Epoch 20/30\n",
            "2322/2322 [==============================] - 17s 7ms/step - loss: 1.3185\n",
            "Epoch 21/30\n",
            "2322/2322 [==============================] - 17s 7ms/step - loss: 1.2939\n",
            "Epoch 22/30\n",
            "2322/2322 [==============================] - 17s 7ms/step - loss: 1.2601\n",
            "Epoch 23/30\n",
            "2322/2322 [==============================] - 17s 7ms/step - loss: 1.2370\n",
            "Epoch 24/30\n",
            "2322/2322 [==============================] - 17s 7ms/step - loss: 1.2177\n",
            "Epoch 25/30\n",
            "2322/2322 [==============================] - 17s 7ms/step - loss: 1.2057\n",
            "Epoch 26/30\n",
            "2322/2322 [==============================] - 17s 7ms/step - loss: 1.1877\n",
            "Epoch 27/30\n",
            "2322/2322 [==============================] - 17s 7ms/step - loss: 1.1690\n",
            "Epoch 28/30\n",
            "2322/2322 [==============================] - 17s 7ms/step - loss: 1.1577\n",
            "Epoch 29/30\n",
            "2322/2322 [==============================] - 17s 7ms/step - loss: 1.1566\n",
            "Epoch 30/30\n",
            "2322/2322 [==============================] - 17s 7ms/step - loss: 1.1401\n"
          ],
          "name": "stdout"
        }
      ]
    },
    {
      "cell_type": "code",
      "metadata": {
        "colab": {
          "base_uri": "https://localhost:8080/",
          "height": 295
        },
        "id": "yRQX6iiJCCJr",
        "outputId": "406b2f17-c0a1-4176-c17e-71f2bef6278c"
      },
      "source": [
        "plt.plot(history.history['loss'])\n",
        "plt.title('Model loss graph')\n",
        "plt.xlabel('Epoch')\n",
        "plt.ylabel('Loss')\n",
        "plt.show()"
      ],
      "execution_count": 18,
      "outputs": [
        {
          "output_type": "display_data",
          "data": {
            "image/png": "[encoded data removed]",
            "text/plain": [
              "<Figure size 432x288 with 1 Axes>"
            ]
          },
          "metadata": {
            "tags": [],
            "needs_background": "light"
          }
        }
      ]
    },
    {
      "cell_type": "code",
      "metadata": {
        "id": "UkNrwPC2oVJl",
        "colab": {
          "base_uri": "https://localhost:8080/"
        },
        "outputId": "5594dfe5-c784-480d-dc0b-ff4344cb10a7"
      },
      "source": [
        "# expand_dims [10,10,3] -> [1,10,10,3]\n",
        "input1 = tf.expand_dims([687, 312, 445, 755, 611], 0)\n",
        "input2 = tf.expand_dims([1, 1, 1, 0, 1, 1, 1, 1, 0, 1, 0, 0, 0, 1, 0, 0, 1, 1, 1, 1, 1, 0, 1, 1, 0, 0, 0, 0, 0, 1, 0, 1, 1, 1, 0, 0, 0, 1, 0, 1, 0, 0, 0],0)\n",
        "\n",
        "input_eval = [input1, input2]\n",
        "temperature = 1.0\n",
        "model.reset_states()\n",
        "\n",
        "prediction = model(input_eval)\n",
        "print(prediction)\n",
        "\n",
        "prediction = prediction / temperature\n",
        "print(prediction)\n",
        "\n",
        "predicted_id = tf.random.categorical(prediction, num_samples=1)[-1,0].numpy()\n",
        "print(predicted_id)"
      ],
      "execution_count": 19,
      "outputs": [
        {
          "output_type": "stream",
          "text": [
            "tf.Tensor(\n",
            "[[2.4815499e-20 6.8894752e-18 4.5138820e-20 ... 1.7405791e-12\n",
            "  1.9326185e-35 1.0320833e-20]], shape=(1, 1001), dtype=float32)\n",
            "tf.Tensor(\n",
            "[[2.4815499e-20 6.8894752e-18 4.5138820e-20 ... 1.7405791e-12\n",
            "  1.9326185e-35 1.0320833e-20]], shape=(1, 1001), dtype=float32)\n",
            "303\n"
          ],
          "name": "stdout"
        }
      ]
    },
    {
      "cell_type": "code",
      "metadata": {
        "id": "FxTh7S5FlgUB"
      },
      "source": [
        "def generate_address(model, start_address):\n",
        "  # Evaluation step (generating address using the learned model)\n",
        "\n",
        "  # Number of characters to generate\n",
        "  num_generate = 2\n",
        "\n",
        "  input_eval = [tf.expand_dims(start_address[0], 0), tf.expand_dims(start_address[1], 0)]\n",
        "\n",
        "  # Empty string to store our results\n",
        "  generated = []\n",
        "\n",
        "  # Low temperatures results in more predictable.\n",
        "  temperature = 1.0\n",
        "\n",
        "  # Here batch size == 1\n",
        "  model.reset_states()\n",
        "  \n",
        "  predictions = model(input_eval)\n",
        "\n",
        "  predictions = predictions / temperature\n",
        "\n",
        "  # using probability\n",
        "  '''\n",
        "  generated = tf.random.categorical(predictions_np, num_samples=num_generate)[-1,0].numpy()  \n",
        "  '''\n",
        "\n",
        "  # using argmax\n",
        "  predictions_np = predictions.numpy()\n",
        "  predictions_np = np.squeeze(predictions_np,axis=0)\n",
        "  predictions_np = np.argsort(predictions_np)\n",
        "  generated = predictions_np [-num_generate:]\n",
        "\n",
        "  return generated"
      ],
      "execution_count": 20,
      "outputs": []
    },
    {
      "cell_type": "code",
      "metadata": {
        "colab": {
          "base_uri": "https://localhost:8080/"
        },
        "id": "2YymCn3EyU7N",
        "outputId": "216e961a-621d-4778-bd14-e5e2c2929616"
      },
      "source": [
        "inp = [[687, 312, 445, 755, 611],[1, 1, 1, 0, 1, 1, 1, 1, 0, 1, 0, 0, 0, 1, 0, 0, 1, 1, 1, 1, 1, 0, 1, 1, 0, 0, 0, 0, 0, 1, 0, 1, 1, 1, 0, 0, 0, 1, 0, 1, 0, 0, 0]]\n",
        "print(generate_address(model, inp))"
      ],
      "execution_count": 21,
      "outputs": [
        {
          "output_type": "stream",
          "text": [
            "[633 382]\n"
          ],
          "name": "stdout"
        }
      ]
    },
    {
      "cell_type": "markdown",
      "metadata": {
        "id": "gsOAxDdMtXx7"
      },
      "source": [
        "##accuracy 측정"
      ]
    },
    {
      "cell_type": "code",
      "metadata": {
        "id": "bXfqm6EOtaNp",
        "colab": {
          "base_uri": "https://localhost:8080/"
        },
        "outputId": "ddd6d402-d947-43fd-ca33-d720c9136b82"
      },
      "source": [
        "total_num_except_0_1000 = 0\n",
        "correct = 0\n",
        "first_correct = 0\n",
        "second_correct = 0\n",
        "\n",
        "for i in tqdm(range(len(test_delta_output)), desc='check accuracy..'):\n",
        "  total_num_except_0_1000 += 1\n",
        "  inp = [test_rnn_data[i].tolist(), test_address_binary_input[i].tolist()]\n",
        "  lstm_ans = generate_address(model, inp)\n",
        "  if test_delta_output[i] in lstm_ans:\n",
        "    correct += 1\n",
        "    if test_delta_output[i] == lstm_ans[0]:\n",
        "      first_correct += 1\n",
        "    if test_delta_output[i] == lstm_ans[1]:\n",
        "      second_correct += 1\n",
        "\n",
        "print(\"\\naccuracy except 0 and 1000\")\n",
        "print(correct/total_num_except_0_1000)\n",
        "print(\"first number accuracy\")\n",
        "print(first_correct/total_num_except_0_1000)\n",
        "print(\"second number accuracy\")\n",
        "print(second_correct/total_num_except_0_1000)"
      ],
      "execution_count": 22,
      "outputs": [
        {
          "output_type": "stream",
          "text": [
            "check accuracy..: 100%|██████████| 37149/37149 [03:59<00:00, 155.22it/s]"
          ],
          "name": "stderr"
        },
        {
          "output_type": "stream",
          "text": [
            "accuracy except 0 and 1000\n",
            "0.5110231769361221\n",
            "first number accuracy\n",
            "0.06974615736628173\n",
            "second number accuracy\n",
            "0.4412770195698404\n"
          ],
          "name": "stdout"
        },
        {
          "output_type": "stream",
          "text": [
            "\n"
          ],
          "name": "stderr"
        }
      ]
    },
    {
      "cell_type": "markdown",
      "metadata": {
        "id": "dpqrC2yMEWrd"
      },
      "source": [
        "#seq_length = 5\n",
        "###epoch = 10\n",
        "#####accuracy: 3.96%\n",
        "#####accuracy except 0 and 1000: 15.3%\n",
        "###epoch = 20\n",
        "#####accuracy: 4.39%\n",
        "#####accuracy except 0 and 1000: 17.05%\n",
        "###epoch = 30\n",
        "#####accuracy: 4.51%\n",
        "#####accuracy except 0 and 1000: 17.53%\n",
        "#####46min"
      ]
    },
    {
      "cell_type": "markdown",
      "metadata": {
        "id": "YcqQKAUnVu55"
      },
      "source": [
        "\n",
        "#seq_length = 10\n",
        "###epoch = 10\n",
        "#####accuracy: 4.55%\n",
        "#####accuracy except 0 and 1000: 17.7%\n",
        "###epoch = 20\n",
        "#####accuracy: 6.01%\n",
        "#####accuracy except 0 and 1000: 23.3%\n",
        "#####46min"
      ]
    },
    {
      "cell_type": "markdown",
      "metadata": {
        "id": "CueCQc2JVu85"
      },
      "source": [
        "#seq_length = 20\n",
        "###epoch = 10\n",
        "#####accuracy: 4.37%\n",
        "#####accuracy except 0 and 1000: 17.0%\n",
        "#####50min"
      ]
    },
    {
      "cell_type": "markdown",
      "metadata": {
        "id": "tGZVMhkkvQyg"
      },
      "source": [
        "#seq_length = 30\n",
        "###epoch = 10\n",
        "#####accuracy: 4.00%\n",
        "#####accuracy except 0 and 1000: 15.51%\n",
        "#####55min"
      ]
    },
    {
      "cell_type": "code",
      "metadata": {
        "id": "GmHw1GMlN25j"
      },
      "source": [
        ""
      ],
      "execution_count": null,
      "outputs": []
    },
    {
      "cell_type": "markdown",
      "metadata": {
        "id": "07S2AqbDTAm9"
      },
      "source": [
        "https://jaehyeongan.github.io/2019/03/26/KERAS-FUNCTIONAL-API-MULTI-INPUT-%EB%AA%A8%EB%8D%B8-%EA%B5%AC%EC%B6%95%ED%95%98%EA%B8%B0/"
      ]
    },
    {
      "cell_type": "markdown",
      "metadata": {
        "id": "kAAeSc1HPvsP"
      },
      "source": [
        "https://gooopy.tistory.com/103?category=876252"
      ]
    }
  ]
}