{
  "nbformat": 4,
  "nbformat_minor": 0,
  "metadata": {
    "colab": {
      "name": "make_test_train_data_1,2.ipynb",
      "provenance": []
    },
    "kernelspec": {
      "name": "python3",
      "display_name": "Python 3"
    },
    "language_info": {
      "name": "python"
    }
  },
  "cells": [
    {
      "cell_type": "code",
      "metadata": {
        "colab": {
          "base_uri": "https://localhost:8080/"
        },
        "id": "ZrjjwkustFwn",
        "outputId": "846a1c2c-4249-4511-8589-b2c7e29ec499"
      },
      "source": [
        "from google.colab import drive\n",
        "drive.mount('/content/drive')"
      ],
      "execution_count": 1,
      "outputs": [
        {
          "output_type": "stream",
          "text": [
            "Drive already mounted at /content/drive; to attempt to forcibly remount, call drive.mount(\"/content/drive\", force_remount=True).\n"
          ],
          "name": "stdout"
        }
      ]
    },
    {
      "cell_type": "code",
      "metadata": {
        "colab": {
          "base_uri": "https://localhost:8080/"
        },
        "id": "jCXtz-UWtKsa",
        "outputId": "be65af75-c972-48db-ee21-e710ecc3e113"
      },
      "source": [
        "!pwd"
      ],
      "execution_count": 2,
      "outputs": [
        {
          "output_type": "stream",
          "text": [
            "/content\n"
          ],
          "name": "stdout"
        }
      ]
    },
    {
      "cell_type": "code",
      "metadata": {
        "colab": {
          "base_uri": "https://localhost:8080/"
        },
        "id": "hdnG9-MBtX1z",
        "outputId": "5e56c033-db6d-4f7a-fb5d-30bac9126fb4"
      },
      "source": [
        "%cd drive/MyDrive/Colab\\ Notebooks"
      ],
      "execution_count": 3,
      "outputs": [
        {
          "output_type": "stream",
          "text": [
            "/content/drive/MyDrive/Colab Notebooks\n"
          ],
          "name": "stdout"
        }
      ]
    },
    {
      "cell_type": "code",
      "metadata": {
        "colab": {
          "base_uri": "https://localhost:8080/"
        },
        "id": "ulpFmrN0tY_T",
        "outputId": "41389e1a-ce1d-486c-a009-1c0f7ce8a1e0"
      },
      "source": [
        "%tensorflow_version 2.x\n",
        "from keras.datasets import imdb\n",
        "from keras.preprocessing import sequence\n",
        "from keras.layers import Input, Dense, Embedding, LSTM\n",
        "from keras.models import Model\n",
        "import keras\n",
        "import tensorflow as tf\n",
        "import os\n",
        "import numpy as np\n",
        "import matplotlib.pyplot as plt\n",
        "import pandas as pd\n",
        "import shutil\n",
        "import globalobject as g\n",
        "from tqdm import tqdm"
      ],
      "execution_count": 4,
      "outputs": [
        {
          "output_type": "stream",
          "text": [
            "Drive already mounted at /content/drive; to attempt to forcibly remount, call drive.mount(\"/content/drive\", force_remount=True).\n"
          ],
          "name": "stdout"
        }
      ]
    },
    {
      "cell_type": "code",
      "metadata": {
        "id": "SlAEHNA4tanT"
      },
      "source": [
        "#f = open(g.text_file + \".txt\", 'r')\n",
        "f = open('/content/drive/MyDrive/Colab Notebooks/dataset/' + g.text_file + '.txt', 'r')"
      ],
      "execution_count": 6,
      "outputs": []
    },
    {
      "cell_type": "code",
      "metadata": {
        "colab": {
          "base_uri": "https://localhost:8080/"
        },
        "id": "vZJuf8DKtcny",
        "outputId": "84752e99-4e42-4e3e-8a3d-e57e65a08895"
      },
      "source": [
        "load_address = list()\n",
        "\n",
        "f.seek(0, 0)\n",
        "while True:\n",
        "  line = f.readline()\n",
        "  if not line: break\n",
        "  split_line = line.split(', ')\n",
        "  load_address.append(split_line[2])\n",
        "\n",
        "for i in range(len(load_address)):\n",
        "  load_address[i] = int(load_address[i], 16)//64\n",
        "\n",
        "print(\"\\nload_address example: \")\n",
        "print(load_address[:100])"
      ],
      "execution_count": 7,
      "outputs": [
        {
          "output_type": "stream",
          "text": [
            "\n",
            "load_address example: \n",
            "[702778646977, 702778647164, 702778646976, 702778646921, 702778647176, 702778647287, 702778647353, 702778647368, 702778647452, 702778647286, 702778647484, 702778647560, 702778647644, 702778647688, 702778647352, 702778647755, 702778647819, 702778647901, 702778647933, 4363500793931, 702778647351, 702778647820, 702778647756, 4363500793932, 4363500794023, 4363500794087, 174026416743, 702778647350, 174026416807, 174026416838, 2627809326406, 2627809326492, 2627809326524, 2627809326534, 2627809326620, 702778647349, 2627809326662, 2627809326780, 2627809326844, 2627809326857, 2627809326889, 2627809326972, 2627809326988, 2627809327052, 2627809327116, 2627809327180, 2627809327277, 2627809327309, 2627809327341, 702778647348, 2627809327115, 2627809327366, 2627809327430, 2627809327532, 2627809327564, 2627809327596, 2627809327622, 2627809327686, 2627809327749, 702778647347, 2627809327813, 2627809327877, 2627809327979, 2627809328011, 2627809328043, 2627809327947, 2627809328069, 2627809328133, 702778647346, 2627809328204, 2627809328268, 2627809328365, 2627809328396, 2627809328333, 2627809328203, 2627809328471, 2627809328535, 2627809328624, 2627809328656, 2627809328727, 2627809328688, 2627809328791, 2627809328592, 2627809328855, 2627809328944, 702778647345, 2627809328983, 702778647344, 2627809327191, 2627809329047, 2627809327248, 2627809327280, 2627809327127, 2627809327312, 2627809329111, 2627809327063, 2627809327344, 702778647343, 2627809329165, 2627809329228]\n"
          ],
          "name": "stdout"
        }
      ]
    },
    {
      "cell_type": "code",
      "metadata": {
        "colab": {
          "base_uri": "https://localhost:8080/"
        },
        "id": "7acf_91htfKy",
        "outputId": "c787983e-b6c4-4fbb-9201-97d1bc954e65"
      },
      "source": [
        "delta = list()\n",
        "for i in range(len(load_address)-1):\n",
        "  delta.append(load_address[i+1] - load_address[i])\n",
        "\n",
        "for i in range(len(delta)):\n",
        "  if delta[i] > 500:\n",
        "    delta[i] = 1000\n",
        "    continue\n",
        "  if delta[i] < -500:\n",
        "    delta[i] = 0\n",
        "    continue\n",
        "  delta[i] += 500\n",
        "\n",
        "print(\"\\ndelta example, final delta:\")\n",
        "print(delta[0:100])\n",
        "print(delta[-1])\n",
        "\n",
        "delta_bundle = list()\n",
        "for i in range(len(delta) - g.seq_length):\n",
        "  delta_bundle.append(delta[i:i+g.seq_length+1])\n",
        "delta_bundle = np.array(delta_bundle)\n",
        "\n",
        "print(\"\\ndelta_bundle example:\")\n",
        "print(delta_bundle)\n",
        "\n",
        "rnn_data = delta_bundle[:,:-1]\n",
        "rnn_data = np.array(rnn_data)\n",
        "print(\"\\nfirst input example(rnn_data): \")\n",
        "print(rnn_data)"
      ],
      "execution_count": 8,
      "outputs": [
        {
          "output_type": "stream",
          "text": [
            "\n",
            "delta example, final delta:\n",
            "[687, 312, 445, 755, 611, 566, 515, 584, 334, 698, 576, 584, 544, 164, 903, 564, 582, 532, 1000, 0, 969, 436, 1000, 591, 564, 0, 1000, 0, 531, 1000, 586, 532, 510, 586, 0, 1000, 618, 564, 513, 532, 583, 516, 564, 564, 564, 597, 532, 532, 0, 1000, 751, 564, 602, 532, 532, 526, 564, 563, 0, 1000, 564, 602, 532, 532, 404, 622, 564, 0, 1000, 564, 597, 531, 437, 370, 768, 564, 589, 532, 571, 461, 603, 301, 763, 589, 0, 1000, 0, 1000, 1000, 0, 532, 347, 685, 1000, 0, 781, 0, 1000, 563, 501]\n",
            "585\n",
            "\n",
            "delta_bundle example:\n",
            "[[ 687  312  445  755  611  566]\n",
            " [ 312  445  755  611  566  515]\n",
            " [ 445  755  611  566  515  584]\n",
            " ...\n",
            " [ 499    0  554  501 1000  499]\n",
            " [   0  554  501 1000  499    0]\n",
            " [ 554  501 1000  499    0  585]]\n",
            "\n",
            "first input example(rnn_data): \n",
            "[[ 687  312  445  755  611]\n",
            " [ 312  445  755  611  566]\n",
            " [ 445  755  611  566  515]\n",
            " ...\n",
            " [ 499    0  554  501 1000]\n",
            " [   0  554  501 1000  499]\n",
            " [ 554  501 1000  499    0]]\n"
          ],
          "name": "stdout"
        }
      ]
    },
    {
      "cell_type": "code",
      "metadata": {
        "colab": {
          "base_uri": "https://localhost:8080/"
        },
        "id": "ChERdDNQt8nm",
        "outputId": "68a2d35d-5919-4f5c-c247-39510d7c0dfe"
      },
      "source": [
        "# 8 -> [0,0,0,1] change int to categorical value\n",
        "def address_to_binary(a):\n",
        "  binary_int = list()\n",
        "  for i in range(g.MAXLEN):\n",
        "    # /1000 -> scaling\n",
        "    binary_int.append(a%2)\n",
        "    a = a//2\n",
        "  return binary_int\n",
        "\n",
        "address_binary_input = list()\n",
        "for i in range(g.seq_length, len(load_address)-1):\n",
        "  address_binary_input.append(address_to_binary(load_address[i]))\n",
        "\n",
        "print(\"\\naddress binary input example\")\n",
        "print(address_binary_input[0])\n",
        "address_binary_input = np.array(address_binary_input)"
      ],
      "execution_count": 9,
      "outputs": [
        {
          "output_type": "stream",
          "text": [
            "\n",
            "address binary input example\n",
            "[1, 1, 1, 0, 1, 1, 1, 1, 0, 1, 0, 0, 0, 1, 0, 0, 1, 1, 1, 1, 1, 0, 1, 1, 0, 0, 0, 0, 0, 1, 0, 1, 1, 1, 0, 0, 0, 1, 0, 1, 0, 0, 0]\n"
          ],
          "name": "stdout"
        }
      ]
    },
    {
      "cell_type": "code",
      "metadata": {
        "colab": {
          "base_uri": "https://localhost:8080/"
        },
        "id": "ETDoPSDVuEgP",
        "outputId": "cc070767-f535-41c5-8524-1910097934ec"
      },
      "source": [
        "delta_output = delta_bundle[:,-1:]\n",
        "delta_output = delta_output.flatten()\n",
        "print(\"\\noutput example:\")\n",
        "print(delta_output)\n",
        "\n",
        "print('output shape')\n",
        "print(rnn_data.shape)\n",
        "print(address_binary_input.shape)\n",
        "print(delta_output.shape)"
      ],
      "execution_count": 10,
      "outputs": [
        {
          "output_type": "stream",
          "text": [
            "\n",
            "output example:\n",
            "[566 515 584 ... 499   0 585]\n",
            "output shape\n",
            "(721566, 5)\n",
            "(721566, 43)\n",
            "(721566,)\n"
          ],
          "name": "stdout"
        }
      ]
    },
    {
      "cell_type": "code",
      "metadata": {
        "colab": {
          "base_uri": "https://localhost:8080/"
        },
        "id": "bQ26EbyCuMJu",
        "outputId": "2f703f7a-0b1f-4482-f10e-fe710813cd25"
      },
      "source": [
        "delete_list = list()\n",
        "for i in range(len(delta_output)):\n",
        "  if delta_output[i] == 0 or delta_output[i] == 1000:\n",
        "    delete_list.append(i)\n",
        "\n",
        "delta_output = np.delete(delta_output, delete_list)\n",
        "rnn_data = np.delete(rnn_data, delete_list, 0)\n",
        "address_binary_input = np.delete(address_binary_input, delete_list, 0)\n",
        "\n",
        "print(\"\\n0 and 1000 removed delta output example:\")\n",
        "print(delta_output)"
      ],
      "execution_count": 11,
      "outputs": [
        {
          "output_type": "stream",
          "text": [
            "\n",
            "0 and 1000 removed delta output example:\n",
            "[566 515 584 ... 501 499 585]\n"
          ],
          "name": "stdout"
        }
      ]
    },
    {
      "cell_type": "code",
      "metadata": {
        "id": "MAyzSOnMuSDZ"
      },
      "source": [
        "idx = np.arange(rnn_data.shape[0])\n",
        "np.random.shuffle(idx)\n",
        "\n",
        "rnn_data = rnn_data[idx]\n",
        "address_binary_input = address_binary_input[idx]\n",
        "delta_output = delta_output[idx]\n",
        "\n",
        "cut_index = len(rnn_data) * g.train_model_percentage // 100\n",
        "\n",
        "train_rnn_data = rnn_data[:cut_index,:]\n",
        "test_rnn_data = rnn_data[cut_index:]\n",
        "\n",
        "train_address_binary_input = address_binary_input[:cut_index,:]\n",
        "test_address_binary_input = address_binary_input[cut_index:,:]\n",
        "\n",
        "train_delta_output = delta_output[:cut_index]\n",
        "test_delta_output = delta_output[cut_index:]"
      ],
      "execution_count": 12,
      "outputs": []
    },
    {
      "cell_type": "code",
      "metadata": {
        "id": "2eGRJEhauUIJ"
      },
      "source": [
        "np.save('/content/drive/MyDrive/Colab Notebooks/dataset/' + g.text_file + '_train_rnn_data', train_rnn_data)\n",
        "np.save('/content/drive/MyDrive/Colab Notebooks/dataset/' + g.text_file + '_test_rnn_data', test_rnn_data)\n",
        "np.save('/content/drive/MyDrive/Colab Notebooks/dataset/' + g.text_file + '_train_address_binary_input', train_address_binary_input)\n",
        "np.save('/content/drive/MyDrive/Colab Notebooks/dataset/' + g.text_file + '_test_address_binary_input', test_address_binary_input)\n",
        "np.save('/content/drive/MyDrive/Colab Notebooks/dataset/' + g.text_file + '_train_delta_output', train_delta_output)\n",
        "np.save('/content/drive/MyDrive/Colab Notebooks/dataset/' + g.text_file + '_test_delta_output', test_delta_output)"
      ],
      "execution_count": 13,
      "outputs": []
    },
    {
      "cell_type": "code",
      "metadata": {
        "id": "CKmsBSVAwO14"
      },
      "source": [
        ""
      ],
      "execution_count": null,
      "outputs": []
    }
  ]
}